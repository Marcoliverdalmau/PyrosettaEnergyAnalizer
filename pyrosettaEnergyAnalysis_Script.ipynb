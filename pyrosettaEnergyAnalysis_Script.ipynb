{
 "cells": [
  {
   "cell_type": "code",
   "execution_count": 1,
   "metadata": {
    "scrolled": false
   },
   "outputs": [
    {
     "name": "stdout",
     "output_type": "stream",
     "text": [
      "PyRosetta-4 2021 [Rosetta PyRosetta4.conda.linux.cxx11thread.serialization.CentOS.python38.Release 2021.18+release.54b4909cd528ede1d749ea69e8046c244fc797f2 2021-05-04T21:04:43] retrieved from: http://www.pyrosetta.org\n",
      "(C) Copyright Rosetta Commons Member Institutions. Created in JHU by Sergey Lyskov and PyRosetta Team.\n",
      "\u001b[0mcore.init: {0} \u001b[0mChecking for fconfig files in pwd and ./rosetta/flags\n",
      "\u001b[0mcore.init: {0} \u001b[0mRosetta version: PyRosetta4.conda.linux.cxx11thread.serialization.CentOS.python38.Release r282 2021.18+release.54b4909 54b4909cd528ede1d749ea69e8046c244fc797f2 http://www.pyrosetta.org 2021-05-04T21:04:43\n",
      "\u001b[0mcore.init: {0} \u001b[0mcommand: PyRosetta -ex1 -ex2aro -database /home/marc/anaconda3/lib/python3.8/site-packages/pyrosetta/database\n",
      "\u001b[0mbasic.random.init_random_generator: {0} \u001b[0m'RNG device' seed mode, using '/dev/urandom', seed=721672942 seed_offset=0 real_seed=721672942 thread_index=0\n",
      "\u001b[0mbasic.random.init_random_generator: {0} \u001b[0mRandomGenerator:init: Normal mode, seed=721672942 RG_type=mt19937\n"
     ]
    }
   ],
   "source": [
    "from pyrosetta import *\n",
    "init()\n",
    "import numpy as np\n",
    "import os"
   ]
  },
  {
   "cell_type": "code",
   "execution_count": 72,
   "metadata": {
    "scrolled": true
   },
   "outputs": [
    {
     "name": "stdout",
     "output_type": "stream",
     "text": [
      "\u001b[0mcore.import_pose.import_pose: {0} \u001b[0mFile '1mutkinski.pdb' automatically determined to be of type PDB\n",
      "\u001b[0mcore.io.pose_from_sfr.PoseFromSFRBuilder: {0} \u001b[0m\u001b[1m[ WARNING ]\u001b[0m PDB reader is ignoring atom  N   in residue 725 A.  Pass flag -ignore_zero_occupancy false to change this behavior\n",
      "\u001b[0mcore.io.pose_from_sfr.PoseFromSFRBuilder: {0} \u001b[0m\u001b[1m[ WARNING ]\u001b[0m PDB reader is ignoring atom  CA  in residue 725 A.  Pass flag -ignore_zero_occupancy false to change this behavior\n",
      "\u001b[0mcore.io.pose_from_sfr.PoseFromSFRBuilder: {0} \u001b[0m\u001b[1m[ WARNING ]\u001b[0m PDB reader is ignoring atom  C   in residue 725 A.  Pass flag -ignore_zero_occupancy false to change this behavior\n",
      "\u001b[0mcore.io.pose_from_sfr.PoseFromSFRBuilder: {0} \u001b[0m\u001b[1m[ WARNING ]\u001b[0m PDB reader is ignoring atom  O   in residue 725 A.  Pass flag -ignore_zero_occupancy false to change this behavior\n",
      "\u001b[0mcore.io.pose_from_sfr.PoseFromSFRBuilder: {0} \u001b[0m\u001b[1m[ WARNING ]\u001b[0m PDB reader is ignoring atom  CB  in residue 725 A.  Pass flag -ignore_zero_occupancy false to change this behavior\n",
      "\u001b[0mcore.io.pose_from_sfr.PoseFromSFRBuilder: {0} \u001b[0m\u001b[1m[ WARNING ]\u001b[0m PDB reader is ignoring atom  CG  in residue 725 A.  Pass flag -ignore_zero_occupancy false to change this behavior\n",
      "\u001b[0mcore.io.pose_from_sfr.PoseFromSFRBuilder: {0} \u001b[0m\u001b[1m[ WARNING ]\u001b[0m PDB reader is ignoring atom  CD  in residue 725 A.  Pass flag -ignore_zero_occupancy false to change this behavior\n",
      "\u001b[0mcore.io.pose_from_sfr.PoseFromSFRBuilder: {0} \u001b[0m\u001b[1m[ WARNING ]\u001b[0m PDB reader is ignoring atom  OE1 in residue 725 A.  Pass flag -ignore_zero_occupancy false to change this behavior\n",
      "\u001b[0mcore.io.pose_from_sfr.PoseFromSFRBuilder: {0} \u001b[0m\u001b[1m[ WARNING ]\u001b[0m PDB reader is ignoring atom  OE2 in residue 725 A.  Pass flag -ignore_zero_occupancy false to change this behavior\n",
      "\u001b[0mcore.io.pose_from_sfr.PoseFromSFRBuilder: {0} \u001b[0m\u001b[1m[ WARNING ]\u001b[0m PDB reader is ignoring atom  H   in residue 725 A.  Pass flag -ignore_zero_occupancy false to change this behavior\n",
      "\u001b[0mcore.io.pose_from_sfr.PoseFromSFRBuilder: {0} \u001b[0m\u001b[1m[ WARNING ]\u001b[0m PDB reader is ignoring atom  HA  in residue 725 A.  Pass flag -ignore_zero_occupancy false to change this behavior\n",
      "\u001b[0mcore.io.pose_from_sfr.PoseFromSFRBuilder: {0} \u001b[0m\u001b[1m[ WARNING ]\u001b[0m PDB reader is ignoring atom  HB2 in residue 725 A.  Pass flag -ignore_zero_occupancy false to change this behavior\n",
      "\u001b[0mcore.io.pose_from_sfr.PoseFromSFRBuilder: {0} \u001b[0m\u001b[1m[ WARNING ]\u001b[0m PDB reader is ignoring atom  HB3 in residue 725 A.  Pass flag -ignore_zero_occupancy false to change this behavior\n",
      "\u001b[0mcore.io.pose_from_sfr.PoseFromSFRBuilder: {0} \u001b[0m\u001b[1m[ WARNING ]\u001b[0m PDB reader is ignoring atom  HG2 in residue 725 A.  Pass flag -ignore_zero_occupancy false to change this behavior\n",
      "\u001b[0mcore.io.pose_from_sfr.PoseFromSFRBuilder: {0} \u001b[0m\u001b[1m[ WARNING ]\u001b[0m PDB reader is ignoring atom  HG3 in residue 725 A.  Pass flag -ignore_zero_occupancy false to change this behavior\n",
      "\u001b[0mcore.io.pose_from_sfr.PoseFromSFRBuilder: {0} \u001b[0m\u001b[1m[ WARNING ]\u001b[0m PDB reader is ignoring atom  CG  in residue 730 A.  Pass flag -ignore_zero_occupancy false to change this behavior\n",
      "\u001b[0mcore.io.pose_from_sfr.PoseFromSFRBuilder: {0} \u001b[0m\u001b[1m[ WARNING ]\u001b[0m PDB reader is ignoring atom  CD  in residue 730 A.  Pass flag -ignore_zero_occupancy false to change this behavior\n",
      "\u001b[0mcore.io.pose_from_sfr.PoseFromSFRBuilder: {0} \u001b[0m\u001b[1m[ WARNING ]\u001b[0m PDB reader is ignoring atom  CE  in residue 730 A.  Pass flag -ignore_zero_occupancy false to change this behavior\n",
      "\u001b[0mcore.io.pose_from_sfr.PoseFromSFRBuilder: {0} \u001b[0m\u001b[1m[ WARNING ]\u001b[0m PDB reader is ignoring atom  NZ  in residue 730 A.  Pass flag -ignore_zero_occupancy false to change this behavior\n",
      "\u001b[0mcore.io.pose_from_sfr.PoseFromSFRBuilder: {0} \u001b[0m\u001b[1m[ WARNING ]\u001b[0m PDB reader is ignoring atom  HG2 in residue 730 A.  Pass flag -ignore_zero_occupancy false to change this behavior\n",
      "\u001b[0mcore.io.pose_from_sfr.PoseFromSFRBuilder: {0} \u001b[0m\u001b[1m[ WARNING ]\u001b[0m PDB reader is ignoring atom  HG3 in residue 730 A.  Pass flag -ignore_zero_occupancy false to change this behavior\n",
      "\u001b[0mcore.io.pose_from_sfr.PoseFromSFRBuilder: {0} \u001b[0m\u001b[1m[ WARNING ]\u001b[0m PDB reader is ignoring atom  HD2 in residue 730 A.  Pass flag -ignore_zero_occupancy false to change this behavior\n",
      "\u001b[0mcore.io.pose_from_sfr.PoseFromSFRBuilder: {0} \u001b[0m\u001b[1m[ WARNING ]\u001b[0m PDB reader is ignoring atom  HD3 in residue 730 A.  Pass flag -ignore_zero_occupancy false to change this behavior\n",
      "\u001b[0mcore.io.pose_from_sfr.PoseFromSFRBuilder: {0} \u001b[0m\u001b[1m[ WARNING ]\u001b[0m PDB reader is ignoring atom  HE2 in residue 730 A.  Pass flag -ignore_zero_occupancy false to change this behavior\n",
      "\u001b[0mcore.io.pose_from_sfr.PoseFromSFRBuilder: {0} \u001b[0m\u001b[1m[ WARNING ]\u001b[0m PDB reader is ignoring atom  HE3 in residue 730 A.  Pass flag -ignore_zero_occupancy false to change this behavior\n",
      "\u001b[0mcore.io.pose_from_sfr.PoseFromSFRBuilder: {0} \u001b[0m\u001b[1m[ WARNING ]\u001b[0m PDB reader is ignoring atom  HZ1 in residue 730 A.  Pass flag -ignore_zero_occupancy false to change this behavior\n",
      "\u001b[0mcore.io.pose_from_sfr.PoseFromSFRBuilder: {0} \u001b[0m\u001b[1m[ WARNING ]\u001b[0m PDB reader is ignoring atom  HZ2 in residue 730 A.  Pass flag -ignore_zero_occupancy false to change this behavior\n",
      "\u001b[0mcore.io.pose_from_sfr.PoseFromSFRBuilder: {0} \u001b[0m\u001b[1m[ WARNING ]\u001b[0m PDB reader is ignoring atom  HZ3 in residue 730 A.  Pass flag -ignore_zero_occupancy false to change this behavior\n",
      "\u001b[0mcore.io.pose_from_sfr.PoseFromSFRBuilder: {0} \u001b[0m\u001b[1m[ WARNING ]\u001b[0m PDB reader is ignoring atom  CB  in residue 961 A.  Pass flag -ignore_zero_occupancy false to change this behavior\n",
      "\u001b[0mcore.io.pose_from_sfr.PoseFromSFRBuilder: {0} \u001b[0m\u001b[1m[ WARNING ]\u001b[0m PDB reader is ignoring atom  CG  in residue 961 A.  Pass flag -ignore_zero_occupancy false to change this behavior\n",
      "\u001b[0mcore.io.pose_from_sfr.PoseFromSFRBuilder: {0} \u001b[0m\u001b[1m[ WARNING ]\u001b[0m PDB reader is ignoring atom  CD  in residue 961 A.  Pass flag -ignore_zero_occupancy false to change this behavior\n",
      "\u001b[0mcore.io.pose_from_sfr.PoseFromSFRBuilder: {0} \u001b[0m\u001b[1m[ WARNING ]\u001b[0m PDB reader is ignoring atom  OE1 in residue 961 A.  Pass flag -ignore_zero_occupancy false to change this behavior\n",
      "\u001b[0mcore.io.pose_from_sfr.PoseFromSFRBuilder: {0} \u001b[0m\u001b[1m[ WARNING ]\u001b[0m PDB reader is ignoring atom  OE2 in residue 961 A.  Pass flag -ignore_zero_occupancy false to change this behavior\n",
      "\u001b[0mcore.io.pose_from_sfr.PoseFromSFRBuilder: {0} \u001b[0m\u001b[1m[ WARNING ]\u001b[0m PDB reader is ignoring atom  HB2 in residue 961 A.  Pass flag -ignore_zero_occupancy false to change this behavior\n",
      "\u001b[0mcore.io.pose_from_sfr.PoseFromSFRBuilder: {0} \u001b[0m\u001b[1m[ WARNING ]\u001b[0m PDB reader is ignoring atom  HB3 in residue 961 A.  Pass flag -ignore_zero_occupancy false to change this behavior\n",
      "\u001b[0mcore.io.pose_from_sfr.PoseFromSFRBuilder: {0} \u001b[0m\u001b[1m[ WARNING ]\u001b[0m PDB reader is ignoring atom  HG2 in residue 961 A.  Pass flag -ignore_zero_occupancy false to change this behavior\n",
      "\u001b[0mcore.io.pose_from_sfr.PoseFromSFRBuilder: {0} \u001b[0m\u001b[1m[ WARNING ]\u001b[0m PDB reader is ignoring atom  HG3 in residue 961 A.  Pass flag -ignore_zero_occupancy false to change this behavior\n",
      "\u001b[0mcore.io.pose_from_sfr.PoseFromSFRBuilder: {0} \u001b[0m\u001b[1m[ WARNING ]\u001b[0m PDB reader is ignoring atom  CB  in residue 962 A.  Pass flag -ignore_zero_occupancy false to change this behavior\n",
      "\u001b[0mcore.io.pose_from_sfr.PoseFromSFRBuilder: {0} \u001b[0m\u001b[1m[ WARNING ]\u001b[0m PDB reader is ignoring atom  CG  in residue 962 A.  Pass flag -ignore_zero_occupancy false to change this behavior\n",
      "\u001b[0mcore.io.pose_from_sfr.PoseFromSFRBuilder: {0} \u001b[0m\u001b[1m[ WARNING ]\u001b[0m PDB reader is ignoring atom  CD  in residue 962 A.  Pass flag -ignore_zero_occupancy false to change this behavior\n",
      "\u001b[0mcore.io.pose_from_sfr.PoseFromSFRBuilder: {0} \u001b[0m\u001b[1m[ WARNING ]\u001b[0m PDB reader is ignoring atom  NE  in residue 962 A.  Pass flag -ignore_zero_occupancy false to change this behavior\n",
      "\u001b[0mcore.io.pose_from_sfr.PoseFromSFRBuilder: {0} \u001b[0m\u001b[1m[ WARNING ]\u001b[0m PDB reader is ignoring atom  CZ  in residue 962 A.  Pass flag -ignore_zero_occupancy false to change this behavior\n",
      "\u001b[0mcore.io.pose_from_sfr.PoseFromSFRBuilder: {0} \u001b[0m\u001b[1m[ WARNING ]\u001b[0m PDB reader is ignoring atom  NH1 in residue 962 A.  Pass flag -ignore_zero_occupancy false to change this behavior\n"
     ]
    },
    {
     "name": "stdout",
     "output_type": "stream",
     "text": [
      "\u001b[0mcore.io.pose_from_sfr.PoseFromSFRBuilder: {0} \u001b[0m\u001b[1m[ WARNING ]\u001b[0m PDB reader is ignoring atom  NH2 in residue 962 A.  Pass flag -ignore_zero_occupancy false to change this behavior\n",
      "\u001b[0mcore.io.pose_from_sfr.PoseFromSFRBuilder: {0} \u001b[0m\u001b[1m[ WARNING ]\u001b[0m PDB reader is ignoring atom  HB2 in residue 962 A.  Pass flag -ignore_zero_occupancy false to change this behavior\n",
      "\u001b[0mcore.io.pose_from_sfr.PoseFromSFRBuilder: {0} \u001b[0m\u001b[1m[ WARNING ]\u001b[0m PDB reader is ignoring atom  HB3 in residue 962 A.  Pass flag -ignore_zero_occupancy false to change this behavior\n",
      "\u001b[0mcore.io.pose_from_sfr.PoseFromSFRBuilder: {0} \u001b[0m\u001b[1m[ WARNING ]\u001b[0m PDB reader is ignoring atom  HG2 in residue 962 A.  Pass flag -ignore_zero_occupancy false to change this behavior\n",
      "\u001b[0mcore.io.pose_from_sfr.PoseFromSFRBuilder: {0} \u001b[0m\u001b[1m[ WARNING ]\u001b[0m PDB reader is ignoring atom  HG3 in residue 962 A.  Pass flag -ignore_zero_occupancy false to change this behavior\n",
      "\u001b[0mcore.io.pose_from_sfr.PoseFromSFRBuilder: {0} \u001b[0m\u001b[1m[ WARNING ]\u001b[0m PDB reader is ignoring atom  HD2 in residue 962 A.  Pass flag -ignore_zero_occupancy false to change this behavior\n",
      "\u001b[0mcore.io.pose_from_sfr.PoseFromSFRBuilder: {0} \u001b[0m\u001b[1m[ WARNING ]\u001b[0m PDB reader is ignoring atom  HD3 in residue 962 A.  Pass flag -ignore_zero_occupancy false to change this behavior\n",
      "\u001b[0mcore.io.pose_from_sfr.PoseFromSFRBuilder: {0} \u001b[0m\u001b[1m[ WARNING ]\u001b[0m PDB reader is ignoring atom  HE  in residue 962 A.  Pass flag -ignore_zero_occupancy false to change this behavior\n",
      "\u001b[0mcore.io.pose_from_sfr.PoseFromSFRBuilder: {0} \u001b[0m\u001b[1m[ WARNING ]\u001b[0m PDB reader is ignoring atom HH11 in residue 962 A.  Pass flag -ignore_zero_occupancy false to change this behavior\n",
      "\u001b[0mcore.io.pose_from_sfr.PoseFromSFRBuilder: {0} \u001b[0m\u001b[1m[ WARNING ]\u001b[0m PDB reader is ignoring atom HH12 in residue 962 A.  Pass flag -ignore_zero_occupancy false to change this behavior\n",
      "\u001b[0mcore.io.pose_from_sfr.PoseFromSFRBuilder: {0} \u001b[0m\u001b[1m[ WARNING ]\u001b[0m PDB reader is ignoring atom HH21 in residue 962 A.  Pass flag -ignore_zero_occupancy false to change this behavior\n",
      "\u001b[0mcore.io.pose_from_sfr.PoseFromSFRBuilder: {0} \u001b[0m\u001b[1m[ WARNING ]\u001b[0m PDB reader is ignoring atom HH22 in residue 962 A.  Pass flag -ignore_zero_occupancy false to change this behavior\n",
      "\u001b[0mcore.io.pose_from_sfr.PoseFromSFRBuilder: {0} \u001b[0m\u001b[1m[ WARNING ]\u001b[0m PDB reader is ignoring atom  CB  in residue 963 A.  Pass flag -ignore_zero_occupancy false to change this behavior\n",
      "\u001b[0mcore.io.pose_from_sfr.PoseFromSFRBuilder: {0} \u001b[0m\u001b[1m[ WARNING ]\u001b[0m PDB reader is ignoring atom  CG  in residue 963 A.  Pass flag -ignore_zero_occupancy false to change this behavior\n",
      "\u001b[0mcore.io.pose_from_sfr.PoseFromSFRBuilder: {0} \u001b[0m\u001b[1m[ WARNING ]\u001b[0m PDB reader is ignoring atom  SD  in residue 963 A.  Pass flag -ignore_zero_occupancy false to change this behavior\n",
      "\u001b[0mcore.io.pose_from_sfr.PoseFromSFRBuilder: {0} \u001b[0m\u001b[1m[ WARNING ]\u001b[0m PDB reader is ignoring atom  CE  in residue 963 A.  Pass flag -ignore_zero_occupancy false to change this behavior\n",
      "\u001b[0mcore.io.pose_from_sfr.PoseFromSFRBuilder: {0} \u001b[0m\u001b[1m[ WARNING ]\u001b[0m PDB reader is ignoring atom  HB2 in residue 963 A.  Pass flag -ignore_zero_occupancy false to change this behavior\n",
      "\u001b[0mcore.io.pose_from_sfr.PoseFromSFRBuilder: {0} \u001b[0m\u001b[1m[ WARNING ]\u001b[0m PDB reader is ignoring atom  HB3 in residue 963 A.  Pass flag -ignore_zero_occupancy false to change this behavior\n",
      "\u001b[0mcore.io.pose_from_sfr.PoseFromSFRBuilder: {0} \u001b[0m\u001b[1m[ WARNING ]\u001b[0m PDB reader is ignoring atom  HG2 in residue 963 A.  Pass flag -ignore_zero_occupancy false to change this behavior\n",
      "\u001b[0mcore.io.pose_from_sfr.PoseFromSFRBuilder: {0} \u001b[0m\u001b[1m[ WARNING ]\u001b[0m PDB reader is ignoring atom  HG3 in residue 963 A.  Pass flag -ignore_zero_occupancy false to change this behavior\n",
      "\u001b[0mcore.io.pose_from_sfr.PoseFromSFRBuilder: {0} \u001b[0m\u001b[1m[ WARNING ]\u001b[0m PDB reader is ignoring atom  HE1 in residue 963 A.  Pass flag -ignore_zero_occupancy false to change this behavior\n",
      "\u001b[0mcore.io.pose_from_sfr.PoseFromSFRBuilder: {0} \u001b[0m\u001b[1m[ WARNING ]\u001b[0m PDB reader is ignoring atom  HE2 in residue 963 A.  Pass flag -ignore_zero_occupancy false to change this behavior\n",
      "\u001b[0mcore.io.pose_from_sfr.PoseFromSFRBuilder: {0} \u001b[0m\u001b[1m[ WARNING ]\u001b[0m PDB reader is ignoring atom  HE3 in residue 963 A.  Pass flag -ignore_zero_occupancy false to change this behavior\n",
      "\u001b[0mcore.io.pose_from_sfr.PoseFromSFRBuilder: {0} \u001b[0m\u001b[1m[ WARNING ]\u001b[0m PDB reader is ignoring atom  CB  in residue 978 A.  Pass flag -ignore_zero_occupancy false to change this behavior\n",
      "\u001b[0mcore.io.pose_from_sfr.PoseFromSFRBuilder: {0} \u001b[0m\u001b[1m[ WARNING ]\u001b[0m PDB reader is ignoring atom  CG  in residue 978 A.  Pass flag -ignore_zero_occupancy false to change this behavior\n",
      "\u001b[0mcore.io.pose_from_sfr.PoseFromSFRBuilder: {0} \u001b[0m\u001b[1m[ WARNING ]\u001b[0m PDB reader is ignoring atom  SD  in residue 978 A.  Pass flag -ignore_zero_occupancy false to change this behavior\n",
      "\u001b[0mcore.io.pose_from_sfr.PoseFromSFRBuilder: {0} \u001b[0m\u001b[1m[ WARNING ]\u001b[0m PDB reader is ignoring atom  CE  in residue 978 A.  Pass flag -ignore_zero_occupancy false to change this behavior\n",
      "\u001b[0mcore.io.pose_from_sfr.PoseFromSFRBuilder: {0} \u001b[0m\u001b[1m[ WARNING ]\u001b[0m PDB reader is ignoring atom  HB2 in residue 978 A.  Pass flag -ignore_zero_occupancy false to change this behavior\n",
      "\u001b[0mcore.io.pose_from_sfr.PoseFromSFRBuilder: {0} \u001b[0m\u001b[1m[ WARNING ]\u001b[0m PDB reader is ignoring atom  HB3 in residue 978 A.  Pass flag -ignore_zero_occupancy false to change this behavior\n",
      "\u001b[0mcore.io.pose_from_sfr.PoseFromSFRBuilder: {0} \u001b[0m\u001b[1m[ WARNING ]\u001b[0m PDB reader is ignoring atom  HG2 in residue 978 A.  Pass flag -ignore_zero_occupancy false to change this behavior\n",
      "\u001b[0mcore.io.pose_from_sfr.PoseFromSFRBuilder: {0} \u001b[0m\u001b[1m[ WARNING ]\u001b[0m PDB reader is ignoring atom  HG3 in residue 978 A.  Pass flag -ignore_zero_occupancy false to change this behavior\n",
      "\u001b[0mcore.io.pose_from_sfr.PoseFromSFRBuilder: {0} \u001b[0m\u001b[1m[ WARNING ]\u001b[0m PDB reader is ignoring atom  HE1 in residue 978 A.  Pass flag -ignore_zero_occupancy false to change this behavior\n",
      "\u001b[0mcore.io.pose_from_sfr.PoseFromSFRBuilder: {0} \u001b[0m\u001b[1m[ WARNING ]\u001b[0m PDB reader is ignoring atom  HE2 in residue 978 A.  Pass flag -ignore_zero_occupancy false to change this behavior\n",
      "\u001b[0mcore.io.pose_from_sfr.PoseFromSFRBuilder: {0} \u001b[0m\u001b[1m[ WARNING ]\u001b[0m PDB reader is ignoring atom  HE3 in residue 978 A.  Pass flag -ignore_zero_occupancy false to change this behavior\n",
      "\u001b[0mcore.io.pose_from_sfr.PoseFromSFRBuilder: {0} \u001b[0m\u001b[1m[ WARNING ]\u001b[0m PDB reader is ignoring atom  CB  in residue 994 A.  Pass flag -ignore_zero_occupancy false to change this behavior\n",
      "\u001b[0mcore.io.pose_from_sfr.PoseFromSFRBuilder: {0} \u001b[0m\u001b[1m[ WARNING ]\u001b[0m PDB reader is ignoring atom  CG1 in residue 994 A.  Pass flag -ignore_zero_occupancy false to change this behavior\n",
      "\u001b[0mcore.io.pose_from_sfr.PoseFromSFRBuilder: {0} \u001b[0m\u001b[1m[ WARNING ]\u001b[0m PDB reader is ignoring atom  CG2 in residue 994 A.  Pass flag -ignore_zero_occupancy false to change this behavior\n",
      "\u001b[0mcore.io.pose_from_sfr.PoseFromSFRBuilder: {0} \u001b[0m\u001b[1m[ WARNING ]\u001b[0m PDB reader is ignoring atom  CD1 in residue 994 A.  Pass flag -ignore_zero_occupancy false to change this behavior\n",
      "\u001b[0mcore.io.pose_from_sfr.PoseFromSFRBuilder: {0} \u001b[0m\u001b[1m[ WARNING ]\u001b[0m PDB reader is ignoring atom  HB  in residue 994 A.  Pass flag -ignore_zero_occupancy false to change this behavior\n",
      "\u001b[0mcore.io.pose_from_sfr.PoseFromSFRBuilder: {0} \u001b[0m\u001b[1m[ WARNING ]\u001b[0m PDB reader is ignoring atom HG12 in residue 994 A.  Pass flag -ignore_zero_occupancy false to change this behavior\n",
      "\u001b[0mcore.io.pose_from_sfr.PoseFromSFRBuilder: {0} \u001b[0m\u001b[1m[ WARNING ]\u001b[0m PDB reader is ignoring atom HG13 in residue 994 A.  Pass flag -ignore_zero_occupancy false to change this behavior\n",
      "\u001b[0mcore.io.pose_from_sfr.PoseFromSFRBuilder: {0} \u001b[0m\u001b[1m[ WARNING ]\u001b[0m PDB reader is ignoring atom HD11 in residue 994 A.  Pass flag -ignore_zero_occupancy false to change this behavior\n",
      "\u001b[0mcore.io.pose_from_sfr.PoseFromSFRBuilder: {0} \u001b[0m\u001b[1m[ WARNING ]\u001b[0m PDB reader is ignoring atom HD12 in residue 994 A.  Pass flag -ignore_zero_occupancy false to change this behavior\n",
      "\u001b[0mcore.io.pose_from_sfr.PoseFromSFRBuilder: {0} \u001b[0m\u001b[1m[ WARNING ]\u001b[0m PDB reader is ignoring atom HD13 in residue 994 A.  Pass flag -ignore_zero_occupancy false to change this behavior\n"
     ]
    },
    {
     "name": "stdout",
     "output_type": "stream",
     "text": [
      "\u001b[0mcore.io.pose_from_sfr.PoseFromSFRBuilder: {0} \u001b[0m\u001b[1m[ WARNING ]\u001b[0m PDB reader is ignoring atom HG21 in residue 994 A.  Pass flag -ignore_zero_occupancy false to change this behavior\n",
      "\u001b[0mcore.io.pose_from_sfr.PoseFromSFRBuilder: {0} \u001b[0m\u001b[1m[ WARNING ]\u001b[0m PDB reader is ignoring atom HG22 in residue 994 A.  Pass flag -ignore_zero_occupancy false to change this behavior\n",
      "\u001b[0mcore.io.pose_from_sfr.PoseFromSFRBuilder: {0} \u001b[0m\u001b[1m[ WARNING ]\u001b[0m PDB reader is ignoring atom HG23 in residue 994 A.  Pass flag -ignore_zero_occupancy false to change this behavior\n",
      "\u001b[0mcore.io.pose_from_sfr.PoseFromSFRBuilder: {0} \u001b[0m\u001b[1m[ WARNING ]\u001b[0m discarding 15 atoms at position 312 in file 1mutkinski.pdb. Best match rsd_type:  pdb_AQ4\n",
      "\u001b[0mcore.conformation.Conformation: {0} \u001b[0m\u001b[1m[ WARNING ]\u001b[0m missing heavyatom:  CG  on residue LYS 58\n",
      "\u001b[0mcore.conformation.Conformation: {0} \u001b[0m\u001b[1m[ WARNING ]\u001b[0m missing heavyatom:  CD  on residue LYS 58\n",
      "\u001b[0mcore.conformation.Conformation: {0} \u001b[0m\u001b[1m[ WARNING ]\u001b[0m missing heavyatom:  CE  on residue LYS 58\n",
      "\u001b[0mcore.conformation.Conformation: {0} \u001b[0m\u001b[1m[ WARNING ]\u001b[0m missing heavyatom:  NZ  on residue LYS 58\n",
      "\u001b[0mcore.conformation.Conformation: {0} \u001b[0m\u001b[1m[ WARNING ]\u001b[0m missing heavyatom:  CB  on residue GLU 289\n",
      "\u001b[0mcore.conformation.Conformation: {0} \u001b[0m\u001b[1m[ WARNING ]\u001b[0m missing heavyatom:  CG  on residue GLU 289\n",
      "\u001b[0mcore.conformation.Conformation: {0} \u001b[0m\u001b[1m[ WARNING ]\u001b[0m missing heavyatom:  CD  on residue GLU 289\n",
      "\u001b[0mcore.conformation.Conformation: {0} \u001b[0m\u001b[1m[ WARNING ]\u001b[0m missing heavyatom:  OE1 on residue GLU 289\n",
      "\u001b[0mcore.conformation.Conformation: {0} \u001b[0m\u001b[1m[ WARNING ]\u001b[0m missing heavyatom:  OE2 on residue GLU 289\n",
      "\u001b[0mcore.conformation.Conformation: {0} \u001b[0m\u001b[1m[ WARNING ]\u001b[0m missing heavyatom:  CB  on residue ARG 290\n",
      "\u001b[0mcore.conformation.Conformation: {0} \u001b[0m\u001b[1m[ WARNING ]\u001b[0m missing heavyatom:  CG  on residue ARG 290\n",
      "\u001b[0mcore.conformation.Conformation: {0} \u001b[0m\u001b[1m[ WARNING ]\u001b[0m missing heavyatom:  CD  on residue ARG 290\n",
      "\u001b[0mcore.conformation.Conformation: {0} \u001b[0m\u001b[1m[ WARNING ]\u001b[0m missing heavyatom:  NE  on residue ARG 290\n",
      "\u001b[0mcore.conformation.Conformation: {0} \u001b[0m\u001b[1m[ WARNING ]\u001b[0m missing heavyatom:  CZ  on residue ARG 290\n",
      "\u001b[0mcore.conformation.Conformation: {0} \u001b[0m\u001b[1m[ WARNING ]\u001b[0m missing heavyatom:  NH1 on residue ARG 290\n",
      "\u001b[0mcore.conformation.Conformation: {0} \u001b[0m\u001b[1m[ WARNING ]\u001b[0m missing heavyatom:  NH2 on residue ARG 290\n",
      "\u001b[0mcore.conformation.Conformation: {0} \u001b[0m\u001b[1m[ WARNING ]\u001b[0m missing heavyatom:  CB  on residue MET 291\n",
      "\u001b[0mcore.conformation.Conformation: {0} \u001b[0m\u001b[1m[ WARNING ]\u001b[0m missing heavyatom:  CG  on residue MET 291\n",
      "\u001b[0mcore.conformation.Conformation: {0} \u001b[0m\u001b[1m[ WARNING ]\u001b[0m missing heavyatom:  SD  on residue MET 291\n",
      "\u001b[0mcore.conformation.Conformation: {0} \u001b[0m\u001b[1m[ WARNING ]\u001b[0m missing heavyatom:  CE  on residue MET 291\n",
      "\u001b[0mcore.conformation.Conformation: {0} \u001b[0m\u001b[1m[ WARNING ]\u001b[0m missing heavyatom:  CB  on residue MET 294\n",
      "\u001b[0mcore.conformation.Conformation: {0} \u001b[0m\u001b[1m[ WARNING ]\u001b[0m missing heavyatom:  CG  on residue MET 294\n",
      "\u001b[0mcore.conformation.Conformation: {0} \u001b[0m\u001b[1m[ WARNING ]\u001b[0m missing heavyatom:  SD  on residue MET 294\n",
      "\u001b[0mcore.conformation.Conformation: {0} \u001b[0m\u001b[1m[ WARNING ]\u001b[0m missing heavyatom:  CE  on residue MET 294\n",
      "\u001b[0mcore.conformation.Conformation: {0} \u001b[0m\u001b[1m[ WARNING ]\u001b[0m missing heavyatom:  CB  on residue ILE 310\n",
      "\u001b[0mcore.conformation.Conformation: {0} \u001b[0m\u001b[1m[ WARNING ]\u001b[0m missing heavyatom:  CG1 on residue ILE 310\n",
      "\u001b[0mcore.conformation.Conformation: {0} \u001b[0m\u001b[1m[ WARNING ]\u001b[0m missing heavyatom:  CG2 on residue ILE 310\n",
      "\u001b[0mcore.conformation.Conformation: {0} \u001b[0m\u001b[1m[ WARNING ]\u001b[0m missing heavyatom:  CD1 on residue ILE 310\n",
      "\u001b[0mcore.conformation.Conformation: {0} \u001b[0m\u001b[1m[ WARNING ]\u001b[0m missing heavyatom:  OXT on residue PRO:CtermProteinFull 311\n",
      "\u001b[0mcore.pack.pack_missing_sidechains: {0} \u001b[0mpacking residue number 58 because of missing atom number 6 atom name  CG\n",
      "\u001b[0mcore.pack.pack_missing_sidechains: {0} \u001b[0mpacking residue number 289 because of missing atom number 5 atom name  CB\n",
      "\u001b[0mcore.pack.pack_missing_sidechains: {0} \u001b[0mpacking residue number 290 because of missing atom number 5 atom name  CB\n",
      "\u001b[0mcore.pack.pack_missing_sidechains: {0} \u001b[0mpacking residue number 291 because of missing atom number 5 atom name  CB\n",
      "\u001b[0mcore.pack.pack_missing_sidechains: {0} \u001b[0mpacking residue number 294 because of missing atom number 5 atom name  CB\n",
      "\u001b[0mcore.pack.pack_missing_sidechains: {0} \u001b[0mpacking residue number 310 because of missing atom number 5 atom name  CB\n",
      "\u001b[0mcore.pack.task: {0} \u001b[0mPacker task: initialize from command line()\n",
      "\u001b[0mcore.scoring.ScoreFunctionFactory: {0} \u001b[0mSCOREFUNCTION: \u001b[32mref2015\u001b[0m\n",
      "\u001b[0mcore.pack.pack_rotamers: {0} \u001b[0mbuilt 65 rotamers at 6 positions.\n",
      "\u001b[0mcore.pack.pack_rotamers: {0} \u001b[0mRequesting all available threads for interaction graph computation.\n",
      "\u001b[0mcore.pack.interaction_graph.interaction_graph_factory: {0} \u001b[0mInstantiating DensePDInteractionGraph\n",
      "\u001b[0mcore.pack.rotamer_set.RotamerSets: {0} \u001b[0mCompleted interaction graph pre-calculation in 1 available threads (1 had been requested).\n"
     ]
    }
   ],
   "source": [
    "input_pdb = 'egfr.pdb'\n",
    "pose = pose_from_pdb(input_pdb)"
   ]
  },
  {
   "cell_type": "code",
   "execution_count": 73,
   "metadata": {
    "scrolled": true
   },
   "outputs": [
    {
     "name": "stdout",
     "output_type": "stream",
     "text": [
      "\u001b[0mcore.scoring.ScoreFunctionFactory: {0} \u001b[0mSCOREFUNCTION: \u001b[32mref2015\u001b[0m\n",
      "\u001b[0mcore.scoring.ScoreFunctionFactory: {0} \u001b[0mSCOREFUNCTION: \u001b[32mref2015\u001b[0m\n"
     ]
    }
   ],
   "source": [
    "sfxn = get_fa_scorefxn()\n",
    "relax = rosetta.protocols.relax.FastRelax()\n",
    "relax.set_scorefxn(sfxn)"
   ]
  },
  {
   "cell_type": "code",
   "execution_count": 37,
   "metadata": {
    "scrolled": true
   },
   "outputs": [],
   "source": [
    "output_dir = 'relaxed_wildtp/'\n",
    "\n",
    "if not os.path.exists(output_dir):\n",
    "    os.mkdir(output_dir)\n",
    "for i in range(10):\n",
    "    output_file = output_dir+input_pdb.split('.pdb')[0]+'_'+str(i+1).zfill(4)+'.pdb'\n",
    "    if not os.path.exists(output_file):\n",
    "        clone_pose = Pose()\n",
    "        clone_pose.assign(pose)\n",
    "        relax.apply(clone_pose)\n",
    "        rosetta.core.io.pdb.dump_pdb(clone_pose, output_file)"
   ]
  },
  {
   "cell_type": "code",
   "execution_count": 74,
   "metadata": {
    "scrolled": true
   },
   "outputs": [
    {
     "name": "stdout",
     "output_type": "stream",
     "text": [
      "\u001b[0mcore.import_pose.import_pose: {0} \u001b[0mFile 'relaxed_1mut/1mutkinski_0001.pdb' automatically determined to be of type PDB\n",
      "\u001b[0mcore.import_pose.import_pose: {0} \u001b[0mFile 'relaxed_1mut/1mutkinski_0002.pdb' automatically determined to be of type PDB\n",
      "\u001b[0mcore.import_pose.import_pose: {0} \u001b[0mFile 'relaxed_1mut/1mutkinski_0003.pdb' automatically determined to be of type PDB\n",
      "\u001b[0mcore.import_pose.import_pose: {0} \u001b[0mFile 'relaxed_1mut/1mutkinski_0004.pdb' automatically determined to be of type PDB\n",
      "\u001b[0mcore.import_pose.import_pose: {0} \u001b[0mFile 'relaxed_1mut/1mutkinski_0005.pdb' automatically determined to be of type PDB\n",
      "\u001b[0mcore.import_pose.import_pose: {0} \u001b[0mFile 'relaxed_1mut/1mutkinski_0006.pdb' automatically determined to be of type PDB\n",
      "\u001b[0mcore.import_pose.import_pose: {0} \u001b[0mFile 'relaxed_1mut/1mutkinski_0007.pdb' automatically determined to be of type PDB\n",
      "\u001b[0mcore.import_pose.import_pose: {0} \u001b[0mFile 'relaxed_1mut/1mutkinski_0008.pdb' automatically determined to be of type PDB\n",
      "\u001b[0mcore.import_pose.import_pose: {0} \u001b[0mFile 'relaxed_1mut/1mutkinski_0009.pdb' automatically determined to be of type PDB\n",
      "\u001b[0mcore.import_pose.import_pose: {0} \u001b[0mFile 'relaxed_1mut/1mutkinski_0010.pdb' automatically determined to be of type PDB\n"
     ]
    }
   ],
   "source": [
    "poses = {}\n",
    "for pdb in sorted(os.listdir('relaxed_wildtp')):\n",
    "    index = int(pdb.split('.')[0].split('_')[-1])\n",
    "    poses[index] = pose_from_pdb('relaxed_wildtp/'+pdb)"
   ]
  },
  {
   "cell_type": "code",
   "execution_count": 75,
   "metadata": {},
   "outputs": [],
   "source": [
    "energies = []\n",
    "for i in poses:\n",
    "    energies.append(sfxn(poses[i]))"
   ]
  },
  {
   "cell_type": "code",
   "execution_count": 76,
   "metadata": {},
   "outputs": [],
   "source": [
    "import matplotlib.pyplot as plt"
   ]
  },
  {
   "cell_type": "code",
   "execution_count": 77,
   "metadata": {},
   "outputs": [
    {
     "data": {
      "text/plain": [
       "Text(0, 0.5, 'Energy [kcal/mol]')"
      ]
     },
     "execution_count": 77,
     "metadata": {},
     "output_type": "execute_result"
    },
    {
     "data": {
      "image/png": "[encoded data removed]",
      "text/plain": [
       "<Figure size 432x288 with 1 Axes>"
      ]
     },
     "metadata": {
      "needs_background": "light"
     },
     "output_type": "display_data"
    }
   ],
   "source": [
    "averages = []\n",
    "repeats = 1000\n",
    "\n",
    "Y = []\n",
    "Y_err = []\n",
    "\n",
    "for i in range(len(poses)):\n",
    "    avj = []\n",
    "    for j in range(repeats):\n",
    "        sample = np.random.choice(energies, i+1)\n",
    "        avj.append(np.average(sample))\n",
    "    Y.append(np.average(avj))\n",
    "    Y_err.append(np.std(avj))\n",
    "    \n",
    "X = [*range(1,len(poses)+1)]\n",
    "\n",
    "plt.errorbar(X, Y, yerr=Y_err)\n",
    "plt.xlabel('Number of relaxed structures')\n",
    "plt.ylabel('Energy [kcal/mol]')"
   ]
  },
  {
   "cell_type": "code",
   "execution_count": 78,
   "metadata": {},
   "outputs": [
    {
     "name": "stdout",
     "output_type": "stream",
     "text": [
      "-909.9486339866146 3.290088151730707\n"
     ]
    }
   ],
   "source": [
    "print(Y[5], Y_err[5])"
   ]
  },
  {
   "cell_type": "code",
   "execution_count": 79,
   "metadata": {},
   "outputs": [
    {
     "name": "stdout",
     "output_type": "stream",
     "text": [
      "\u001b[0mcore.import_pose.import_pose: {0} \u001b[0mFile 'relaxed_1mut/1mutkinski_0001.pdb' automatically determined to be of type PDB\n"
     ]
    }
   ],
   "source": [
    "pose = pose_from_pdb('relaxed_wildtp/egfr_0001.pdb')"
   ]
  },
  {
   "cell_type": "code",
   "execution_count": 80,
   "metadata": {},
   "outputs": [
    {
     "data": {
      "text/plain": [
       "-914.4226841594968"
      ]
     },
     "execution_count": 80,
     "metadata": {},
     "output_type": "execute_result"
    }
   ],
   "source": [
    "sfxn(pose)"
   ]
  },
  {
   "cell_type": "code",
   "execution_count": 81,
   "metadata": {
    "scrolled": true
   },
   "outputs": [
    {
     "name": "stdout",
     "output_type": "stream",
     "text": [
      " res         fa_atr         fa_rep         fa_sol   fa_intra_repfa_intra_sol_xo    lk_ball_wtd        fa_elec      pro_close    hbond_sr_bb    hbond_lr_bb    hbond_bb_sc       hbond_sc      dslf_fa13          omega         fa_dun        p_aa_pp  yhh_planarity            ref    rama_prepro\n",
      "   1         -0.564          0.070          0.676          0.036          0.000         -0.149         -0.095          0.000          0.000          0.000          0.000          0.000          0.000          0.365          0.000          0.000          0.000          0.798          0.000\n",
      "   2         -2.505          0.284          2.781          1.226          0.252         -0.425         -2.178          0.000          0.000          0.000         -0.586          0.000          0.000          0.023          3.779         -0.072          0.000         -2.725          0.009\n",
      "   3         -1.106          0.881          0.924          0.253          0.000         -0.102         -0.020          0.017          0.000          0.000          0.000          0.000          0.000          0.048          0.000          0.413          0.000          1.325         -0.353\n",
      "   4         -1.752          0.889          1.183          0.640          0.077         -0.113         -0.290          0.025          0.000          0.000          0.000          0.000          0.000          0.037          0.138         -1.657          0.000         -1.643         -1.152\n",
      "   5         -2.499          0.277          2.656          2.185          0.546          0.104         -0.204          0.000          0.000          0.000         -0.754         -1.086          0.000         -0.130          2.129         -0.943          0.000         -1.340         -0.986\n",
      "   6         -1.694          0.118          1.730          1.831          0.250         -0.054         -0.161          0.000          0.000          0.000          0.000          0.000          0.000         -0.117          3.449         -0.275          0.000         -1.451         -0.712\n",
      "   7         -2.654          0.823          1.189          0.304          0.000         -0.253         -0.372          0.000          0.000          0.000         -0.754          0.000          0.000         -0.061          0.000         -0.165          0.000          1.325         -1.473\n",
      "   8         -2.445          0.383          1.312          3.675          0.115         -0.074         -0.281          0.000          0.000          0.000          0.000          0.000          0.000          0.074          0.556         -0.570          0.000          1.661         -0.936\n",
      "   9         -5.338          1.053         -0.999          3.207          0.155         -0.100          0.169          0.000          0.000          0.000          0.000          0.000          0.000         -0.003          1.950         -0.037          0.000          1.661          0.317\n",
      "  10         -5.575          0.726          3.300          2.311          0.228         -0.269         -2.159          0.000          0.000          0.000          0.000          0.000          0.000         -0.091          2.316          0.035          0.000         -0.095         -0.198\n",
      "  11         -4.644          0.689          0.757          5.410          0.084         -0.174         -0.318          0.000          0.000          0.000          0.000          0.000          0.000         -0.099          1.505         -1.195          0.000          2.304         -1.053\n",
      "  12         -7.907          1.983          1.551          3.386          0.051         -0.357         -1.600          0.000          0.000          0.000          0.000          0.000          0.000          0.075          0.103         -0.417          0.000          1.661         -0.760\n",
      "  13         -4.719          1.103          5.354          1.425          0.127         -0.074         -2.895          0.000          0.000          0.000          0.000         -0.762          0.000         -0.044          1.790          0.025          0.000         -0.715         -0.441\n",
      "  14         -3.385          0.714          2.083          1.891          0.397         -0.300         -0.120          0.000          0.000          0.000          0.000          0.000          0.000          0.122          4.837         -0.464          0.000         -2.725         -0.931\n",
      "  15         -2.613          0.703          2.398          1.204          0.069         -0.320          0.193          0.000          0.000          0.000          0.000          0.000          0.000          0.020          0.012         -0.090          0.000          1.152         -1.048\n",
      "  16         -8.052          1.615          7.571          1.410          0.329         -0.211         -4.445          0.000          0.000          0.000         -0.790         -0.436          0.000          0.255          4.298         -0.097          0.000         -2.725         -0.826\n",
      "  17         -8.474          3.667          1.140          4.435          0.285         -0.215         -0.505          0.000          0.000          0.000          0.000          0.000          0.000          0.259          2.685         -0.550          0.000          1.218         -0.811\n",
      "  18         -3.448          0.365          2.622          1.971          0.177          0.121         -1.584          0.000          0.000          0.000          0.000          0.000          0.000         -0.050          1.534          0.298          0.000         -0.715         -0.008\n",
      "  19         -4.428          0.833          3.775          1.484          0.133         -0.040         -2.810          0.000          0.000          0.000          0.000          0.000          0.000          0.001          2.166          0.060          0.000         -0.715          0.103\n",
      "  20         -4.362          1.107          1.689          5.416          0.086         -0.263         -0.528          0.000          0.000          0.000          0.000          0.000          0.000          0.151          0.249          0.218          0.000          2.304          0.510\n",
      "  21         -4.277          0.928          3.440          1.710          0.119          0.133         -1.582          0.000          0.000          0.000          0.000          0.000          0.000          0.060          1.362         -0.035          0.000         -0.715          1.494\n",
      "  22         -3.794          0.769          0.693          3.042          0.042         -0.221         -0.137          0.000          0.000          0.000          0.000          0.000          0.000         -0.176          0.007         -0.718          0.000          2.643          0.185\n",
      "  23         -7.936          2.385          1.539          3.099          0.076         -0.444         -0.557          0.000          0.000          0.000          0.000          0.000          0.000          0.856          0.712         -0.471          0.000          1.661         -0.524\n",
      "  24         -3.427          0.529          2.787          0.011          0.000          0.092         -1.232          0.000          0.000          0.000          0.000          0.000          0.000          0.111          0.000         -1.710          0.000          0.798          1.221\n",
      "  25         -3.159          1.049          2.808          0.803          0.034          0.244         -1.555          0.000          0.000          0.000         -0.212         -1.088          0.000          0.020          0.899         -0.064          0.000         -0.290          2.715\n",
      "  26         -2.926          0.960          2.773          0.002          0.000         -0.019         -1.377          0.000          0.000          0.000          0.000          0.000          0.000         -0.156          0.000         -2.000          0.000          0.798          2.009\n",
      "  27         -1.192          0.057          0.831          0.546          0.000         -0.108          0.163          0.000          0.000          0.000          0.000          0.000          0.000         -0.013          0.000         -0.158          0.000          1.325          1.142\n",
      "  28         -6.231          1.822          2.908          5.081          0.390         -0.486         -1.235          0.000          0.000          0.000          0.000          0.000          0.000          0.389          3.306         -0.459          0.000          1.218          4.561\n",
      "  29         -3.149          0.519          2.902          0.033          0.000         -0.117         -0.716          0.000          0.000          0.000          0.000          0.000          0.000          0.100          0.000         -2.517          0.000          0.798          4.672\n",
      "  30         -6.140          2.010          3.425          1.982          0.052         -0.056         -2.408          0.000          0.000          0.000          0.000         -1.088          0.000         -0.080          0.094         -0.376          0.000          1.152          0.880\n",
      "  31         -8.207          2.387          1.461          2.709          0.040         -0.215         -2.584          0.000          0.000          0.000          0.000          0.000          0.000         -0.130          0.065         -1.271          0.000          2.643         -0.276\n",
      "  32         -9.578          1.774          4.136          4.547          0.267         -0.163         -2.652          0.000          0.000          0.000          0.000          0.000          0.000          1.320          2.449         -0.632          0.005          0.582         -0.601\n",
      "  33         -6.674          1.646          3.589          1.450          0.132          0.012         -2.916          0.000          0.000          0.000          0.000          0.000          0.000          0.193          1.591          0.168          0.000         -0.715         -0.336\n",
      "  34         -3.942          0.593          2.431          0.007          0.000          0.005         -2.036          0.000          0.000          0.000          0.000          0.000          0.000         -0.240          0.000         -1.198          0.000          0.798          0.573\n",
      "  35         -5.902          0.501          2.298          3.202          0.053          0.074         -1.524          0.000          0.000          0.000          0.000          0.000          0.000          0.696          0.214         -0.431          0.000          1.661          0.488\n",
      "  36        -12.440          3.199          2.839          5.056          0.339         -0.223         -2.623          0.000          0.000          0.000          0.000         -0.436          0.000         -0.129          3.155         -0.046          0.000          2.261          0.659\n",
      "  37         -5.691          1.099          3.141          6.071          0.101         -0.221         -1.294          0.013          0.000          0.000          0.000          0.000          0.000          0.051          0.278         -0.208          0.000          2.304          1.202\n",
      "  38         -6.431          1.831          3.356          0.612          0.075         -0.538         -0.973          0.060          0.000          0.000          0.000          0.000          0.000         -0.184          0.196         -1.570          0.000         -1.643         -0.465\n",
      "  39         -2.689          0.261          4.376          1.231          0.277          0.260         -2.721          0.000          0.000          0.000         -0.790         -0.762          0.000         -0.225          4.183         -0.517          0.000         -2.725         -1.390\n",
      "  40         -1.153          0.347          1.079          0.014          0.000         -0.183          0.022          0.000          0.000          0.000          0.000          0.000          0.000         -0.141          0.000          0.618          0.000          0.798         -0.509\n",
      "  41         -3.922          0.866          3.147          1.508          0.296         -0.315         -0.336          0.000          0.000          0.000          0.000          0.000          0.000         -0.006          3.630         -0.045          0.000         -2.725          0.125\n",
      "  42         -0.902          0.048          0.587          1.648          0.164         -0.103          0.227          0.000          0.000          0.000          0.000          0.000          0.000          0.166          1.222          0.295          0.000         -0.715          0.832\n",
      "  43         -4.510          1.265          1.296          4.333          0.066         -0.082         -0.516          0.000          0.000          0.000          0.000          0.000          0.000          0.124          0.548         -0.160          0.000          2.643          0.904\n",
      "  44         -3.541          1.067          0.529          1.457          0.142         -0.207          0.009          0.000          0.000          0.000          0.000          0.000          0.000         -0.117          1.950          0.611          0.000         -0.715          0.658\n",
      "  45         -6.939          1.896          2.088          5.736          0.089          0.094         -1.877          0.006          0.000          0.000          0.000          0.000          0.000          0.382          0.512         -1.014          0.000          2.304          0.109\n",
      "  46         -3.970          1.348          1.135          0.686          0.079         -0.078         -1.554          0.009          0.000          0.000          0.000          0.000          0.000          0.124          0.356         -0.545          0.000         -1.643          0.018\n",
      "  47         -8.946          1.978          1.927          3.451          0.047         -0.166         -1.580          0.000          0.000          0.000          0.000          0.000          0.000          0.019          0.475         -0.503          0.000          2.643         -0.042\n",
      "  48         -6.155          0.684          2.633          0.317          0.000         -0.211         -2.856          0.000          0.000          0.000          0.000          0.000          0.000         -0.104          0.000          1.046          0.000          1.325          0.332\n",
      "  49         -8.108          2.572          2.335          6.592          0.083         -0.179         -1.956          0.000          0.000          0.000          0.000          0.000          0.000         -0.107          1.493         -1.248          0.000          2.304          0.264\n",
      "  50         -7.757          0.986          6.469          1.882          0.161          0.412         -4.344          0.000          0.000          0.000          0.000         -0.877          0.000         -0.125          1.703          0.518          0.000         -0.715         -0.431\n",
      "  51         -5.059          0.637          5.401          1.821          0.394          0.394         -5.244          0.000          0.000          0.000          0.000         -0.461          0.000          0.081          3.666          0.572          0.000         -2.725          0.651\n",
      "  52         -5.247          1.451          0.562          3.343          0.037         -0.058          0.249          0.000          0.000          0.000          0.000          0.000          0.000         -0.053          0.139          0.316          0.000          1.661          0.675\n",
      "  53         -2.088          0.153          2.479          2.285          0.186          0.101         -0.879          0.000          0.000          0.000         -0.212          0.000          0.000          0.106          2.907         -0.050          0.000         -0.095          1.203\n",
      "  54         -0.928          0.058          0.898          0.570          0.000         -0.060         -0.294          0.000          0.000          0.000          0.000          0.000          0.000          0.026          0.000          0.564          0.000          1.325          3.751\n",
      "  55         -3.437          0.667          1.342          2.146          0.053         -0.269         -0.274          0.000          0.000          0.000          0.000         -0.343          0.000          0.031          0.130          0.100          0.000          1.152          2.458\n",
      "  56         -4.407          1.865          3.599          0.444          0.079         -0.096         -1.043          0.000          0.000          0.000         -0.714          0.000          0.000          0.782          0.592          0.358          0.000         -0.290          1.202\n",
      "  57         -2.937          0.860          1.712          0.476          0.035         -0.219          0.079          0.008          0.000          0.000          0.000          0.000          0.000          1.210          0.114         -1.273          0.000         -1.643          1.959\n",
      "  58         -2.933          0.974          3.035          1.499          0.118         -0.124         -0.583          0.000          0.000          0.000          0.000          0.000          0.000          0.599          1.649         -0.087          0.000         -0.715          0.571\n",
      "  59         -4.852          1.254          3.104          0.481          0.000         -0.240         -1.561          0.000          0.000          0.000         -0.714          0.000          0.000          0.020          0.000         -0.555          0.000          1.325         -0.700\n",
      "  60         -8.140          1.056          6.201          1.664          0.271         -0.312         -2.745          0.000          0.000          0.000         -1.210          0.000          0.000         -0.117          2.021          0.260          0.000         -1.340         -0.766\n",
      "  61         -5.053          1.547          7.182          3.056          0.911          0.238         -5.619          0.000          0.000          0.000          0.000         -0.594          0.000          0.463          4.235          0.136          0.000         -0.715          0.259\n",
      "  62         -4.977          0.290          5.777          1.333          0.285         -0.126         -2.564          0.000          0.000          0.000          0.000         -0.568          0.000          0.150          3.639         -0.503          0.000         -2.725         -0.383\n",
      "  63         -8.522          3.010          2.987          4.697          0.069         -0.201         -1.443          0.000          0.000          0.000          0.000          0.000          0.000         -0.103          0.112         -0.776          0.000          2.304         -0.625\n",
      "  64         -7.740          1.420          2.720          3.859          0.183         -0.217         -1.985          0.000          0.000          0.000          0.000          0.000          0.000         -0.118          1.704         -0.495          0.000          1.661         -0.320\n",
      "  65         -5.952          1.364          7.965          0.899          0.296          0.194         -6.207          0.000          0.000          0.000          0.000         -0.594          0.000          0.718          2.009          0.287          0.000         -2.146         -0.637\n",
      "  66         -9.754          2.548          9.235          1.473          0.346         -0.069         -6.138          0.000          0.000          0.000          0.000         -0.877          0.000         -0.083          3.958         -0.298          0.000         -2.725         -0.743\n",
      "  67         -6.960          2.348          2.278          0.585          0.000          0.098         -1.640          0.000          0.000          0.000          0.000          0.000          0.000         -0.054          0.000         -0.086          0.000          1.325         -0.502\n",
      "  68         -6.643          1.060          3.207          4.759          0.206         -0.105         -2.242          0.000          0.000          0.000          0.000          0.000          0.000          0.433          4.038          0.090          0.002          0.582         -0.290\n",
      "  69         -7.045          1.695          2.214          3.576          0.053         -0.184         -0.911          0.000          0.000          0.000          0.000          0.000          0.000          0.250          0.014         -0.544          0.000          2.643         -0.337\n",
      "  70        -11.103          1.697          4.192          0.952          0.053         -0.087         -1.747          0.000          0.000          0.000          0.000          0.000          0.000          0.945          2.814         -0.282          0.000          1.657         -0.444\n",
      "  71         -4.866          1.047          2.275          0.266          0.000         -0.267         -0.972          0.000          0.000          0.000          0.000          0.000          0.000         -0.030          0.000          0.061          0.000          1.325         -0.501\n",
      "  72         -4.383          0.512          4.427          0.533          0.031          0.376         -3.024          0.000          0.000          0.000         -0.753         -1.086          0.000         -0.120          1.387         -0.296          0.000         -0.290         -0.498\n",
      "  73         -6.658          1.792          1.281          3.860          0.056         -0.045         -0.254          0.000          0.000          0.000          0.000          0.000          0.000          0.494          0.692         -0.904          0.000          2.643         -0.518\n",
      "  74         -3.303          0.339          3.729          1.176          0.604         -0.576         -1.049          0.000          0.000          0.000         -1.053          0.000          0.000         -0.085          1.951         -1.368          0.000         -2.146          0.179\n",
      "  75         -6.310          2.456          4.650          1.047          0.422         -0.043         -0.737          0.001          0.000          0.000         -0.955          0.000          0.000         -0.092          2.521         -0.201          0.000         -1.340          2.643\n",
      "  76         -3.915          1.414          2.785          0.479          0.036         -0.180         -0.737          0.047          0.000          0.000         -0.658          0.000          0.000         -0.359          0.607         -1.587          0.000         -1.643          3.160\n",
      "  77         -9.068          1.612          6.002          1.358          0.530         -0.373         -2.738          0.000          0.000          0.000         -1.457          0.000          0.000         -0.126          2.188         -0.670          0.000         -0.301          0.340\n",
      "  78         -7.998          1.840          1.980          2.803          0.038         -0.048         -0.895          0.000          0.000          0.000          0.000          0.000          0.000         -0.112          0.080         -1.219          0.000          2.643         -0.870\n",
      "  79         -5.895          0.557          2.549          0.541          0.032         -0.002         -1.063          0.000          0.000          0.000          0.000          0.000          0.000          0.028          0.327         -0.006          0.000          3.255         -0.913\n",
      "  80         -5.122          0.559          4.481          2.631          0.230         -0.540         -2.316          0.000          0.000          0.000          0.000          0.000          0.000          0.035          2.747          0.115          0.000         -0.095         -0.608\n",
      "  81         -8.565          2.679          1.116          3.342          0.062         -0.241         -0.787          0.000          0.000          0.000          0.000          0.000          0.000          1.536          0.921         -0.229          0.000          1.661         -0.637\n",
      "  82         -6.612          0.906          1.368          3.148          0.066         -0.223         -0.457          0.000          0.000          0.000          0.000          0.000          0.000          0.676          0.244         -0.450          0.000          1.661         -0.411\n",
      "  83         -4.952          1.083          2.645          0.015          0.000          0.054         -1.730          0.000          0.000          0.000          0.000          0.000          0.000         -0.131          0.000         -2.359          0.000          0.798          0.649\n",
      "  84         -9.075          3.531          0.901          5.628          0.097          0.128         -2.231          0.000          0.000          0.000          0.000          0.000          0.000          1.187          0.169         -0.182          0.000          2.304          0.205\n",
      "  85         -6.354          0.851          2.725          0.382          0.012         -0.089         -1.828          0.000          0.000          0.000          0.000          0.000          0.000         -0.062          0.502          0.295          0.000          3.255          0.137\n",
      "  86         -3.293          0.615         -0.545          3.232          0.080         -0.190         -0.408          0.000          0.000          0.000          0.000          0.000          0.000          0.559          1.143         -0.235          0.000          1.661          0.980\n",
      "  87         -3.274          1.369          3.628          1.638          0.053         -0.191         -1.272          0.000          0.000          0.000         -1.073          0.000          0.000          0.249          0.821         -0.597          0.000          1.152          2.709\n",
      "  88         -2.157          0.579          2.474          0.504          0.050         -0.061         -0.620          0.000          0.000          0.000         -0.572          0.000          0.000         -0.149          0.202          0.008          0.000         -0.290          1.472\n",
      "  89         -5.855          1.793          4.313          1.307          0.048         -0.066         -2.486          0.000          0.000          0.000         -1.073         -0.343          0.000          0.533          0.140         -0.380          0.000          1.152         -0.562\n",
      "  90         -6.722          1.055          0.721          3.553          0.044         -0.363         -0.683          0.000          0.000          0.000         -0.638          0.000          0.000         -0.169          0.006         -0.729          0.000          2.643         -0.467\n",
      "  91         -7.563          1.420          4.576          1.484          0.184         -0.073         -2.721          0.000          0.000          0.000          0.000         -0.461          0.000         -0.092          5.216          0.471          0.000         -1.451         -0.551\n",
      "  92         -9.155          3.053          1.833          3.318          0.062         -0.189         -2.172          0.000          0.000          0.000          0.000          0.000          0.000          0.430          0.643         -0.552          0.000          1.661         -0.163\n",
      "  93        -10.370          3.055          1.353          4.352          0.113         -0.029         -2.839          0.000          0.000          0.000          0.000          0.000          0.000          0.269          3.339         -1.161          0.000          2.304         -0.502\n",
      "  94         -7.322          1.142          3.841          1.191          0.074         -0.034         -3.235          0.000          0.000          0.000          0.000          0.000          0.000         -0.016          0.203         -1.079          0.000          1.152         -0.732\n",
      "  95         -3.953          0.346          3.084          1.316          0.194         -0.461         -1.864          0.000          0.000          0.000          0.000          0.000          0.000          0.141          4.207          0.154          0.000         -1.451         -0.901\n",
      "  96         -7.449          1.500          1.976          3.286          0.056         -0.250         -0.880          0.000          0.000          0.000          0.000          0.000          0.000         -0.030          1.255         -0.284          0.000          1.661         -0.969\n",
      "  97        -10.110          4.383          4.040          1.719          0.051         -0.024         -1.244          0.006          0.000          0.000         -0.773          0.000          0.000         -0.163          3.447          0.197          0.000          1.657          0.220\n",
      "  98         -3.647          2.118          1.515          0.492          0.036          0.051         -0.213          0.080          0.000          0.000          0.000          0.000          0.000         -0.310          1.497         -1.149          0.000         -1.643          0.992\n",
      "  99         -6.403          1.608          2.230          4.620          0.261         -0.153         -0.781          0.000          0.000          0.000          0.000          0.000          0.000          0.443          2.465         -0.328          0.000          1.218         -0.199\n",
      " 100         -4.494          1.105          3.184          0.003          0.000         -0.028         -3.312          0.000          0.000          0.000          0.000          0.000          0.000         -0.123          0.000         -2.337          0.000          0.798         -0.335\n",
      " 101         -6.252          0.845          3.672          0.438          0.012          0.088         -2.933          0.000          0.000          0.000         -0.212          0.000          0.000          0.046          0.951          0.152          0.000          3.255         -0.379\n",
      " 102         -9.299          2.425          1.580          3.896          0.199          0.000         -2.170          0.000          0.000          0.000          0.000          0.000          0.000         -0.009          0.460         -0.291          0.000          1.661         -0.367\n",
      " 103         -8.066          3.162          2.823          6.215          0.180         -0.417         -0.946          0.000          0.000          0.000          0.000          0.000          0.000          0.223          2.382         -0.452          0.000          1.661         -0.183\n",
      " 104         -5.591          0.722          5.650          0.589          0.301          0.015         -2.666          0.000          0.000          0.000          0.000         -1.017          0.000          1.516          2.933         -0.369          0.000         -2.146         -0.631\n",
      " 105         -9.891          1.341          3.858          4.443          0.254         -0.132         -2.534          0.000          0.000          0.000          0.000          0.000          0.000          0.123          1.957         -0.773          0.000          0.582         -0.091\n",
      " 106         -9.107          3.844          1.667          3.971          0.036         -0.028         -1.227          0.000          0.000          0.000          0.000          0.000          0.000          0.717          0.904          0.269          0.000          2.643          0.087\n",
      " 107         -6.897          1.306          6.743          4.549          0.756          0.176         -3.193          0.000          0.000          0.000          0.000         -1.474          0.000         -0.002          2.573         -0.040          0.000         -0.095         -0.203\n",
      " 108         -4.040          0.446          4.398          1.329          0.298         -0.333         -1.493          0.000          0.000          0.000          0.000         -0.457          0.000         -0.081          3.598         -0.333          0.000         -2.725         -0.311\n",
      " 109         -6.016          0.915          4.163          1.217          0.431         -0.081         -2.185          0.000          0.000          0.000          0.000          0.000          0.000          0.313          2.925         -0.633          0.000         -0.301         -0.720\n",
      " 110         -6.427          0.933          6.663          7.422          0.671          0.290         -4.740          0.000          0.000          0.000          0.000         -1.321          0.000         -0.119          5.819         -0.109          0.000         -0.715         -0.308\n",
      " 111         -3.988          0.712          4.655          0.996          0.344         -0.044         -2.515          0.000          0.000          0.000          0.000         -0.531          0.000         -0.144          2.048         -0.045          0.000         -2.146         -0.112\n",
      " 112         -4.088          0.476          3.686          1.256          0.320         -0.232         -1.866          0.000          0.000          0.000          0.000         -0.689          0.000          0.052          2.365         -0.901          0.000         -1.340         -0.877\n",
      " 113         -7.120          1.756          0.930          5.152          0.065         -0.268         -1.074          0.000          0.000          0.000          0.000          0.000          0.000         -0.095          0.513         -1.126          0.000          2.304         -0.877\n",
      " 114         -4.111          1.342          2.556          0.015          0.000         -0.087         -1.587          0.000          0.000          0.000          0.000          0.000          0.000         -0.299          0.000         -0.329          0.000          0.798          0.234\n",
      " 115         -6.243          1.553          5.465          0.331          0.043         -0.107         -3.089          0.000          0.000          0.000         -0.667         -0.685          0.000         -0.030          0.644          0.144          0.000         -0.290         -0.011\n",
      " 116         -5.763          1.012          4.692          5.024          1.128         -0.524         -0.952          0.000          0.000          0.000          0.000          0.000          0.000         -0.029          4.364         -0.234          0.000         -1.451         -1.074\n",
      " 117         -9.190          2.530          4.483          4.071          0.212         -0.420         -1.740          0.000          0.000          0.000          0.000         -0.921          0.000          0.164          3.747         -0.092          0.001          0.582         -0.122\n",
      " 118         -9.714          3.385          0.585          2.903          0.072         -0.168         -1.344          0.000          0.000          0.000          0.000          0.000          0.000          0.112          0.546         -0.447          0.000          1.661          0.046\n",
      " 119         -9.492          1.401          2.017          3.136          0.078         -0.269         -1.289          0.000          0.000          0.000          0.000          0.000          0.000          0.114          0.625         -0.326          0.000          1.661         -0.337\n",
      " 120         -5.462          0.789          4.787          1.282          0.257         -0.291         -1.934          0.000          0.000          0.000          0.000          0.000          0.000          0.641          1.632          0.341          0.000         -1.340          0.014\n",
      " 121        -12.586          3.144          3.017          4.769          0.306         -0.090         -2.734          0.000          0.000          0.000         -0.191          0.000          0.000          0.285          3.411          0.037          0.000          2.261         -0.268\n",
      " 122         -8.313          1.504          3.319          0.399          0.012          0.085         -2.896          0.000          0.000          0.000          0.000          0.000          0.000          0.087          0.228          0.454          0.000          3.255         -0.166\n",
      " 123         -8.381          2.190          4.273          3.448          0.050          0.011         -1.711          0.000          0.000          0.000          0.000          0.000          0.000         -0.074          0.018         -0.532          0.000          2.643          0.290\n",
      " 124         -9.052          1.187          7.134          1.378          0.194         -0.214         -3.866          0.000          0.000          0.000         -1.058          0.000          0.000          0.708          4.147         -0.327          0.000         -1.451         -0.173\n",
      " 125         -8.239          1.493          2.104          4.716          0.070         -0.183         -1.702          0.000          0.000          0.000          0.000          0.000          0.000         -0.093          0.165         -0.731          0.000          2.304         -0.293\n",
      " 126         -7.196          1.221          3.377          0.284          0.000         -0.102         -1.943          0.000          0.000          0.000          0.000          0.000          0.000          0.158          0.000         -0.452          0.000          1.325         -0.505\n",
      " 127         -7.182          1.434          4.798          1.435          0.107         -0.365         -1.680          0.000          0.000          0.000          0.000          0.000          0.000          0.760          2.058          0.048          0.000         -0.715         -0.874\n",
      " 128         -5.118          0.549          3.926          0.029          0.000         -0.189         -2.001          0.000          0.000          0.000          0.000          0.000          0.000         -0.155          0.000          0.579          0.000          0.798          0.655\n",
      " 129         -9.952          2.737          3.320          3.764          0.102         -0.313         -1.730          0.000          0.000          0.000          0.000          0.000          0.000         -0.096          1.910         -0.156          0.000          1.657          0.763\n",
      " 130         -6.747          1.123          6.274          0.866          0.549         -0.472         -1.572          0.000          0.000          0.000          0.000          0.000          0.000          0.091          3.174          1.007          0.000         -1.340          0.267\n",
      " 131         -9.725          2.117          6.315          4.401          0.283         -0.261         -2.405          0.000          0.000          0.000         -1.053          0.000          0.000          0.035          2.018         -0.650          0.058          0.582          0.503\n",
      " 132         -9.874          2.245          3.310          3.352          0.077         -0.118         -2.297          0.000          0.000          0.000          0.000          0.000          0.000          0.206          0.376         -0.428          0.000          1.661         -0.289\n",
      " 133         -6.556          1.249          7.690          1.511          0.347         -0.231         -3.807          0.000          0.000          0.000          0.000         -0.540          0.000         -0.064          4.080         -0.283          0.000         -2.725         -0.775\n",
      " 134         -3.583          0.771          4.247          0.932          0.304         -0.432         -0.500          0.000          0.000          0.000          0.000          0.000          0.000         -0.052          2.205         -0.039          0.000         -2.146         -0.917\n",
      " 135         -6.752          1.555          5.251          4.795          0.610          0.020         -2.189          0.000          0.000          0.000         -0.753          0.000          0.000         -0.034          3.686         -0.073          0.000         -0.095         -0.850\n",
      " 136         -8.417          1.695          7.132          3.739          0.613         -0.753         -4.142          0.000          0.000          0.000         -0.505          0.000          0.000         -0.018          3.440         -0.169          0.000         -0.095         -0.626\n",
      " 137         -8.182          1.820          2.185          2.837          0.048         -0.378         -1.189          0.000          0.000          0.000          0.000          0.000          0.000         -0.008          1.181         -0.598          0.000          1.661         -0.461\n",
      " 138         -6.680          1.040          2.802          2.913          0.038         -0.036         -1.781          0.000          0.000          0.000          0.000          0.000          0.000          0.211          0.239         -1.255          0.000          2.643         -0.642\n",
      " 139         -8.133          2.124          5.454          1.073          0.501          0.011         -3.146          0.000          0.000          0.000         -1.445          0.000          0.000          0.338          2.938         -0.379          0.000         -0.301         -0.225\n",
      " 140         -9.356          2.712          5.111          2.894          0.383         -0.460         -1.452          0.000          0.000          0.000         -1.337          0.000          0.000          0.101          4.311          0.852          0.000         -0.095          1.359\n",
      " 141         -4.716          0.513          5.329          1.362          0.889         -0.087         -3.302          0.000          0.000          0.000         -0.352         -0.711          0.000         -0.119          2.192         -1.161          0.000         -2.146          2.705\n",
      " 142         -7.395          1.831          1.934          3.582          0.095         -0.111         -0.421          0.000          0.000          0.000          0.000          0.000          0.000         -0.131          0.381         -0.291          0.000          1.661          1.386\n",
      " 143         -5.567          0.894          3.049          0.356          0.000          0.022         -0.655          0.000          0.000          0.000          0.000          0.000          0.000          0.078          0.000         -0.923          0.000          1.325         -0.120\n",
      " 144         -6.098          2.025          2.299          0.247          0.000         -0.230         -1.639          0.000          0.000          0.000         -0.401          0.000          0.000          0.922          0.000         -0.296          0.000          1.325         -0.760\n",
      " 145         -6.716          1.071          4.980          2.778          0.281         -0.445         -1.494          0.000          0.000          0.000          0.000         -0.711          0.000         -0.147          3.663         -0.237          0.000         -0.095         -1.348\n",
      " 146         -6.488          0.847          5.825          1.567          0.308         -0.670         -2.368          0.000          0.000          0.000         -0.352          0.000          0.000          0.304          2.693         -1.047          0.000         -1.340         -1.150\n",
      " 147         -8.015          1.560          1.548          2.229          0.036         -0.255         -1.956          0.000          0.000          0.000          0.000          0.000          0.000          0.014          0.051         -1.277          0.000          2.643         -0.966\n",
      " 148         -9.593          3.459          2.281          3.022          0.046         -0.280         -2.299          0.000          0.000          0.000          0.000          0.000          0.000          0.019          0.138         -0.573          0.000          1.661         -0.631\n",
      " 149         -9.111          3.037          2.092          3.516          0.043         -0.285         -2.347          0.000          0.000          0.000          0.000          0.000          0.000         -0.082          0.256         -1.192          0.000          2.643         -0.671\n",
      " 150         -6.684          2.175          3.402          1.543          0.164         -0.084         -0.977          0.000          0.000          0.000          0.000          0.000          0.000          0.119          1.766         -0.061          0.000         -0.715          0.018\n",
      " 151         -5.267          1.922          4.203          1.498          0.084         -0.230         -0.698          0.001          0.000          0.000          0.000          0.000          0.000          0.002          0.305         -0.636          0.000          1.152         -0.094\n",
      " 152         -4.298          1.271          1.769          0.456          0.036          0.062         -0.190          0.019          0.000          0.000         -0.191          0.000          0.000         -0.386          0.225         -1.035          0.000         -1.643         -0.401\n",
      " 153         -3.546          1.352          2.829          1.826          0.283          0.243         -0.939          0.000          0.000          0.000         -0.434         -0.921          0.000         -0.120          3.462         -0.043          0.000         -1.451          0.097\n",
      " 154         -7.528          1.066          6.375          2.343          0.452          0.153         -3.473          0.000          0.000          0.000         -0.658          0.000          0.000         -0.163          2.863         -0.801          0.000         -0.301          0.835\n",
      " 155         -7.580          2.667          1.776          4.055          0.052          0.098         -1.613          0.000          0.000          0.000         -1.127          0.000          0.000          0.016          0.369         -0.648          0.000          2.643          0.479\n",
      " 156         -9.124          1.636          6.524          1.455          0.116         -0.588         -3.094          0.000          0.000          0.000          0.000          0.000          0.000          0.460          1.495          0.047          0.000         -0.715         -0.499\n",
      " 157         -7.887          0.998          1.594          6.214          0.084          0.055         -2.708          0.000          0.000          0.000          0.000          0.000          0.000         -0.171          1.512         -0.893          0.000          2.304         -0.649\n",
      " 158         -6.930          1.828          3.276          2.430          0.058         -0.240         -1.854          0.000          0.000          0.000         -0.906          0.000          0.000         -0.058          0.711         -1.224          0.000          1.152         -0.072\n",
      " 159         -4.774          1.008          4.661          1.715          0.347         -0.549         -1.631          0.000          0.000          0.000         -0.345          0.000          0.000         -0.057          5.157         -0.928          0.000         -2.146          1.480\n",
      " 160         -9.999          3.859          1.430          4.765          0.263         -0.388         -0.551          0.000          0.000          0.000          0.000          0.000          0.000         -0.110          2.347         -0.231          0.000          1.218          0.983\n",
      " 161         -2.360          0.817          2.276          0.025          0.000         -0.197          0.175          0.000          0.000          0.000          0.000          0.000          0.000          0.019          0.000          0.715          0.000          0.798          0.125\n",
      " 162         -5.845          1.196          5.101          3.150          0.422         -0.252         -2.395          0.000          0.000          0.000         -1.042          0.000          0.000          0.291          2.583         -0.143          0.000         -0.095         -0.054\n",
      " 163         -4.521          1.025          1.753          0.258          0.000         -0.047         -1.400          0.000          0.000          0.000          0.000          0.000          0.000          0.258          0.000         -0.228          0.000          1.325         -0.847\n",
      " 164         -5.417          0.504          4.262          3.160          0.278         -0.211         -1.719          0.000          0.000          0.000          0.000          0.000          0.000         -0.007          2.473          0.011          0.000         -0.715         -0.783\n",
      " 165         -4.131          0.947          0.928          3.146          0.081         -0.201         -0.315          0.000          0.000          0.000          0.000          0.000          0.000          0.254          0.834         -0.585          0.000          1.661         -0.228\n",
      " 166         -7.564          0.680          3.184          3.313          0.048         -0.111         -2.739          0.000          0.000          0.000         -0.505          0.000          0.000          0.507          0.082         -0.617          0.000          1.661         -0.382\n",
      " 167         -3.828          0.731          3.939          0.014          0.000         -0.300         -1.431          0.000          0.000          0.000         -0.722          0.000          0.000          0.408          0.000         -0.377          0.000          0.798         -0.351\n",
      " 168         -2.803          0.460          2.550          0.681          0.000         -0.291         -0.871          0.000          0.000          0.000         -0.586          0.000          0.000          0.878          0.000         -0.537          0.000          1.325         -0.742\n",
      " 169         -1.599          0.442          1.284          1.412          0.346         -0.208         -0.080          0.000          0.000          0.000          0.000          0.000          0.000          0.096          3.377          0.152          0.000         -2.725         -0.995\n",
      " 170         -4.685          0.572          4.160          1.161          0.283         -0.307         -1.089          0.000          0.000          0.000         -0.722          0.000          0.000         -0.017          3.837          0.385          0.000         -2.725         -0.171\n",
      " 171         -2.461          0.302          1.920          3.199          0.351         -0.216         -0.947          0.000          0.000          0.000         -0.460          0.000          0.000         -0.101          1.557         -0.329          0.000         -0.715          0.102\n",
      " 172         -4.793          0.366          2.975          1.838          0.457         -0.150         -1.216          0.000          0.000          0.000          0.000         -1.071          0.000          0.041          4.033          0.185          0.000         -2.725          0.156\n",
      " 173         -8.084          0.885          4.275          4.451          0.131         -0.331         -1.991          0.000          0.000          0.000          0.000          0.000          0.000          0.070          3.501         -0.177          0.005          0.582          0.003\n",
      " 174         -4.357          0.629          2.574          1.587          0.367         -0.118         -1.436          0.000          0.000          0.000          0.000         -1.071          0.000         -0.097          3.907          0.092          0.000         -0.301         -0.008\n",
      " 175         -4.188          0.759          1.906          0.441          0.000         -0.148         -0.832          0.000          0.000          0.000          0.000          0.000          0.000          0.089          0.000          0.264          0.000          1.325          0.426\n",
      " 176         -1.643          0.138          1.585          1.259          0.256          0.072         -0.469          0.000          0.000          0.000         -0.699          0.000          0.000         -0.001          3.741          0.125          0.000         -2.725          0.984\n",
      " 177         -1.404          0.245          1.451          0.004          0.000         -0.056         -0.598          0.000          0.000          0.000          0.000          0.000          0.000          0.013          0.000          0.757          0.000          0.798          1.716\n",
      " 178         -0.858          0.212          0.822          0.030          0.000         -0.146          0.645          0.000          0.000          0.000          0.000          0.000          0.000          0.160          0.000          0.802          0.000          0.798          2.537\n",
      " 179         -2.828          0.303          3.255          1.524          0.136          0.225         -3.313          0.000          0.000          0.000         -0.481         -0.568          0.000          0.132          1.768         -0.198          0.000         -0.715          0.996\n",
      " 180         -6.167          2.799          1.284          3.362          0.043         -0.297          0.017          0.006          0.000          0.000          0.000          0.000          0.000         -0.078          0.106         -1.113          0.000          2.643         -0.861\n",
      " 181         -4.588          1.742          2.801          0.571          0.072         -0.174         -0.337          0.065          0.000          0.000          0.000          0.000          0.000          0.399          0.056         -1.518          0.000         -1.643         -0.858\n",
      " 182         -5.848          1.625          1.024          7.671          0.077         -0.003         -0.124          0.000          0.000          0.000          0.000          0.000          0.000          0.295          0.312         -0.765          0.000          2.304         -0.549\n",
      " 183         -6.824          1.180          3.907          1.618          0.139         -0.411         -1.811          0.000          0.000          0.000          0.000          0.000          0.000         -0.232          1.681         -0.043          0.000         -0.715         -0.535\n",
      " 184         -9.293          1.898          4.245          4.625          0.576         -0.584         -2.184          0.000          0.000          0.000         -0.355         -0.616          0.000          0.151          3.356         -0.063          0.000          2.261         -0.878\n",
      " 185         -8.235          2.702          3.489          1.919          0.099         -0.342         -0.736          0.000          0.000          0.000          0.000          0.000          0.000         -0.010          3.707          0.051          0.000          1.657         -0.424\n",
      " 186         -6.112          1.284          2.966          0.466          0.000         -0.406         -1.387          0.000          0.000          0.000          0.000          0.000          0.000          0.393          0.000         -0.212          0.000          1.325         -0.635\n",
      " 187         -8.126          1.629          2.335          3.627          0.174          0.133         -1.192          0.000          0.000          0.000          0.000          0.000          0.000          0.079          0.577         -0.269          0.000          1.661         -0.357\n",
      " 188         -6.750          0.639          7.059          2.431          1.078          0.210         -3.902          0.000          0.000          0.000          0.000         -1.733          0.000         -0.147          4.793         -0.416          0.000         -2.725         -0.462\n",
      " 189         -7.030          2.380          6.211          0.309          0.025         -0.520         -1.810          0.000          0.000          0.000         -0.443          0.000          0.000          0.069          1.069          0.391          0.000         -0.290         -0.545\n",
      " 190         -7.114          1.919          1.614          5.661          0.102         -0.222         -0.400          0.000          0.000          0.000          0.000          0.000          0.000          0.975          0.302          0.377          0.000          2.304          0.257\n",
      " 191         -5.336          0.851          2.818          3.691          0.189         -0.313         -0.244          0.000          0.000          0.000          0.000          0.000          0.000          0.014          1.646         -0.426          0.000          1.661          0.434\n",
      " 192         -5.196          1.112          3.212          1.074          0.469         -0.412         -0.480          0.000          0.000          0.000          0.000          0.000          0.000         -0.027          1.696         -0.682          0.000         -0.301          0.089\n",
      " 193         -6.327          1.133          5.097          3.323          0.491          0.111         -3.292          0.000          0.000          0.000         -0.699          0.000          0.000         -0.217          3.222         -0.231          0.000         -0.095         -0.476\n",
      " 194         -7.116          1.190          3.977          4.878          0.068         -0.483         -1.515          0.000          0.000          0.000         -0.443          0.000          0.000         -0.109          0.386         -1.280          0.000          2.304         -0.805\n",
      " 195        -10.707          2.316          4.014          4.852          0.293         -0.123         -2.588          0.000          0.000          0.000          0.000          0.000          0.000          0.513          2.568         -0.128          0.232          0.582         -0.640\n",
      " 196         -6.039          1.219          4.663          2.368          0.060         -0.039         -2.790          0.000          0.000          0.000         -1.919          0.000          0.000          2.757          0.503         -0.108          0.000          1.152          0.611\n",
      " 197         -7.562          1.626          5.323          0.671          0.397         -0.754         -1.994          0.000          0.000          0.000         -0.380          0.000          0.000         -0.107          2.633         -0.085          0.000         -0.301          0.453\n",
      " 198         -7.691          1.591          6.284          2.063          0.761         -0.115         -2.802          0.000          0.000          0.000         -0.423         -0.473          0.000          0.211          5.412         -0.284          0.000         -1.451         -0.897\n",
      " 199         -5.968          0.627          6.477          0.387          0.049         -0.241         -1.579          0.000          0.000          0.000         -1.079          0.000          0.000          2.097          0.454          0.168          0.000         -0.290         -0.514\n",
      " 200         -7.576          1.413          7.870          0.911          0.305         -0.015         -5.477          0.000          0.000          0.000         -1.660          0.000          0.000          0.816          2.476          0.027          0.000         -2.146         -0.167\n",
      " 201         -9.505          2.316          3.062          3.794          0.053         -0.159         -1.206          0.000          0.000          0.000          0.000          0.000          0.000          0.707          0.048         -0.397          0.000          2.643         -0.435\n",
      " 202        -14.471          3.484          6.029          5.411          0.471         -0.829         -1.885          0.000          0.000          0.000          0.000          0.000          0.000          0.019          3.464         -0.700          0.000          2.261          0.272\n",
      " 203         -7.148          1.687          6.822          0.304          0.026         -0.100         -3.138          0.000          0.000          0.000         -0.355          0.000          0.000          0.369          1.075          0.341          0.000         -0.290          0.044\n",
      " 204        -11.743          4.030          4.862          4.682          0.286          0.085         -2.730          0.000          0.000          0.000          0.000          0.000          0.000          0.275          2.551         -0.599          0.002          0.582         -0.389\n",
      " 205         -5.976          0.667          4.196          0.025          0.000         -0.137         -1.650          0.000          0.000          0.000          0.000          0.000          0.000          0.044          0.000          0.843          0.000          0.798          0.747\n",
      " 206         -8.658          1.425          4.221          3.622          0.054         -0.033         -1.616          0.000          0.000          0.000          0.000          0.000          0.000         -0.146          0.119         -0.365          0.000          2.643          0.571\n",
      " 207         -7.934          1.579          5.815          2.049          0.064          0.012         -2.726          0.000          0.000          0.000          0.000          0.000          0.000          0.006          0.041          0.025          0.000          1.152         -0.075\n",
      " 208         -8.454          1.620          2.545          3.280          0.051         -0.150         -2.459          0.000          0.000          0.000          0.000          0.000          0.000          0.026         -0.020         -0.375          0.000          2.643         -0.081\n",
      " 209        -14.463          3.540          5.188          4.034          0.371         -0.028         -3.089          0.000          0.000          0.000         -0.434          0.000          0.000          0.334          1.869         -0.484          0.000          2.261         -0.189\n",
      " 210         -9.516          1.398          8.224          1.031          0.251          0.074         -5.101          0.000          0.000          0.000         -0.401         -0.616          0.000         -0.028          4.691         -0.338          0.000         -2.725         -0.532\n",
      " 211         -8.436          2.372          1.725          3.546          0.165         -0.222         -1.170          0.000          0.000          0.000          0.000          0.000          0.000         -0.011          0.758         -0.323          0.000          1.661         -0.467\n",
      " 212         -9.391          1.476          1.306          1.502          0.171         -0.253         -1.218          0.000          0.000          0.000          0.000          0.000          0.000         -0.125          2.866         -0.307          0.000          1.657         -0.250\n",
      " 213         -6.114          1.605          4.475          1.127          0.068         -0.175         -2.001          0.000          0.000          0.000         -0.506          0.000          0.000          0.078          0.145         -0.259          0.000          1.152         -0.821\n",
      " 214         -7.821          1.600          1.398          4.804          0.269         -0.449         -0.966          0.000          0.000          0.000          0.000          0.000          0.000          0.119          2.742          0.453          0.000          1.218         -0.436\n",
      " 215         -2.491          0.946          1.925          0.025          0.000         -0.080         -0.628          0.000          0.000          0.000          0.000          0.000          0.000         -0.276          0.000         -2.528          0.000          0.798          0.592\n",
      " 216         -3.532          0.788          3.016          0.282          0.023         -0.296         -0.373          0.000          0.000          0.000         -0.506          0.000          0.000          0.106          1.117          0.002          0.000         -0.290          0.214\n",
      " 217         -2.683          1.311          1.905          1.384          0.120         -0.225         -0.419          0.045          0.000          0.000          0.000          0.000          0.000         -0.062          1.701          0.166          0.000         -0.715         -0.178\n",
      " 218         -6.770          2.442          2.162          0.606          0.076         -0.148         -0.880          0.125          0.000          0.000          0.000          0.000          0.000          0.662          0.245         -1.640          0.000         -1.643         -0.662\n",
      " 219         -9.013          1.972          2.299          4.507          0.315         -0.033         -0.989          0.000          0.000          0.000          0.000          0.000          0.000          1.017          2.530          0.311          0.005          0.582         -0.515\n",
      " 220         -2.563          0.967          3.396          1.309          0.486         -0.141         -1.228          0.000          0.000          0.000         -0.326          0.000          0.000          1.259          4.542          0.222          0.000         -2.146          1.182\n",
      " 221         -1.491          0.493          1.621          0.009          0.000          0.013         -1.328          0.000          0.000          0.000         -0.326          0.000          0.000         -0.179          0.000          0.491          0.000          0.798          0.946\n",
      " 222         -6.020          2.717          2.185          6.153          0.076         -0.108         -1.518          0.001          0.000          0.000          0.000          0.000          0.000         -0.104          0.385         -1.250          0.000          2.304         -0.251\n",
      " 223         -4.036          1.409          2.997          0.753          0.117         -0.145         -1.011          0.056          0.000          0.000          0.000          0.000          0.000          0.554          0.514         -1.509          0.000         -1.643         -0.847\n",
      " 224         -3.527          1.024          1.581          0.781          0.000         -0.094         -0.396          0.000          0.000          0.000          0.000          0.000          0.000         -0.178          0.000         -0.685          0.000          1.325         -1.002\n",
      " 225         -1.861          0.189          2.019          0.530          0.054         -0.181          0.049          0.000          0.000          0.000          0.000          0.000          0.000         -0.106          0.136         -0.511          0.000         -0.290         -1.082\n",
      " 226         -5.015          1.128          4.296          1.428          0.338         -0.243         -2.412          0.000          0.000          0.000          0.000          0.000          0.000          0.184          3.449         -0.005          0.000         -2.725         -0.872\n",
      " 227         -9.122          2.634          1.664          9.073          0.121         -0.174         -0.954          0.000          0.000          0.000          0.000          0.000          0.000          0.009          1.696         -0.505          0.000          2.304         -0.363\n",
      " 228         -4.555          0.638          3.290          0.313          0.045         -0.300         -0.253          0.000          0.000          0.000          0.000          0.000          0.000         -0.114          0.624          0.314          0.000         -0.290         -0.516\n",
      " 229         -4.341          0.970          4.470          0.366          0.025         -0.403         -1.235          0.000          0.000          0.000          0.000          0.000          0.000         -0.087          0.566          0.557          0.000         -0.290         -0.132\n",
      " 230         -8.864          2.971          3.734          6.136          0.069         -0.298         -1.801          0.000          0.000          0.000          0.000          0.000          0.000          0.048          1.907          0.133          0.000          2.304          0.095\n",
      " 231         -9.228          2.681          3.523          4.056          0.078         -0.295         -1.577          0.000          0.000          0.000          0.000          0.000          0.000          0.284          0.700         -0.425          0.000          1.661         -0.385\n",
      " 232         -3.979          0.565          3.568          1.137          0.263         -0.236         -0.140          0.000          0.000          0.000          0.000          0.000          0.000         -0.132          3.753         -0.587          0.000         -2.725         -0.932\n",
      " 233         -3.340          0.604          3.059          1.584          0.150         -0.198         -0.507          0.000          0.000          0.000          0.000          0.000          0.000         -0.002          1.207         -0.024          0.000         -0.715         -1.100\n",
      " 234         -2.405          0.347          2.639          0.015          0.000         -0.205         -0.728          0.000          0.000          0.000          0.000          0.000          0.000         -0.377          0.000         -2.441          0.000          0.798         -1.248\n",
      " 235         -4.741          0.897          4.446          1.343          0.265         -0.196         -1.593          0.000          0.000          0.000         -0.405          0.000          0.000          0.054          3.855         -0.001          0.000         -2.725         -1.123\n",
      " 236         -7.858          1.411          5.674          3.335          0.627          0.044         -2.264          0.000          0.000          0.000         -1.282          0.000          0.000          0.046          2.305          0.026          0.000         -0.095          0.067\n",
      " 237         -8.168          2.668          0.072          2.883          0.044         -0.097         -0.923          0.001          0.000          0.000         -0.405          0.000          0.000          0.256          0.212         -0.133          0.000          1.661         -0.192\n",
      " 238         -3.690          0.798          1.870          0.634          0.102          0.367         -0.805          0.016          0.000          0.000         -0.434          0.000          0.000          0.364          0.352         -1.584          0.000         -1.643         -0.950\n",
      " 239         -5.575          1.615          3.015          1.640          0.184         -0.156         -1.160          0.008          0.000          0.000         -0.520          0.000          0.000         -0.124          4.190          0.316          0.000         -1.451         -0.213\n",
      " 240         -7.034          3.010          2.996          0.683          0.077         -0.083         -0.316          0.098          0.000          0.000          0.000          0.000          0.000         -0.082          0.094         -1.743          0.000         -1.643         -0.007\n",
      " 241         -1.971          0.943          0.899          0.502          0.036         -0.049          0.630          0.029          0.000          0.000          0.000          0.000          0.000         -0.346          0.094         -1.044          0.000         -1.643          0.111\n",
      " 242         -7.824          1.814          1.531          5.977          0.104          0.137         -1.256          0.000          0.000          0.000          0.000          0.000          0.000          1.979          0.404          0.817          0.000          2.304          0.341\n",
      " 243         -7.282          3.254          2.629          1.250          0.051          0.159         -2.293          0.000          0.000          0.000         -0.520          0.000          0.000         -0.160          0.338          0.059          0.000          3.255          0.144\n",
      " 244         -5.747          1.084          4.957          1.136          0.077          0.079         -3.300          0.000          0.000          0.000          0.000          0.000          0.000          0.518          0.039         -0.728          0.000          1.152         -0.395\n",
      " 245         -5.055          1.442          2.892          6.600          0.197         -0.251         -0.886          0.000          0.000          0.000          0.000          0.000          0.000         -0.055          1.198          0.326          0.000          2.304         -0.824\n",
      " 246         -4.073          0.962          2.939          0.967          0.317         -0.155          0.032          0.000          0.000          0.000          0.000          0.000          0.000          0.300          2.091         -0.047          0.000         -2.146         -0.697\n",
      " 247         -7.980          2.412          1.406          3.804          0.055         -0.284         -1.066          0.000          0.000          0.000          0.000          0.000          0.000         -0.030          0.053         -0.607          0.000          2.643         -0.209\n",
      " 248        -10.937          4.411          4.288          4.291          0.295         -0.054         -2.421          0.000          0.000          0.000         -0.405          0.000          0.000          0.034          2.843         -0.114          0.000          0.582          0.010\n",
      " 249         -5.923          1.105          3.860          2.439          0.262         -0.059         -2.097          0.000          0.000          0.000          0.000          0.000          0.000         -0.085          2.461         -0.119          0.000          1.657         -0.374\n",
      " 250         -8.234          1.827          3.556          4.829          0.069         -0.137         -1.571          0.000          0.000          0.000          0.000          0.000          0.000          0.135          0.127         -0.688          0.000          2.304         -0.199\n",
      " 251        -11.345          2.670          3.723          1.158          0.065         -0.085         -0.948          0.000          0.000          0.000          0.000          0.000          0.000          0.366          2.058         -0.046          0.000          1.657         -0.143\n",
      " 252         -7.415          2.036          3.414          4.266          0.053         -0.108         -1.091          0.000          0.000          0.000          0.000          0.000          0.000          0.626          0.029         -0.409          0.000          2.643         -0.212\n",
      " 253         -6.865          1.392          6.120          2.715          0.209          0.063         -3.616          0.000          0.000          0.000          0.000         -0.707          0.000          0.590          3.314         -0.068          0.000         -0.715         -0.593\n",
      " 254         -9.135          1.378          3.932          0.391          0.012         -0.166         -1.547          0.000          0.000          0.000          0.000          0.000          0.000         -0.167          0.426          0.508          0.000          3.255         -0.750\n",
      " 255        -13.994          3.215          4.666          5.596          0.366         -0.103         -2.329          0.000          0.000          0.000         -0.877          0.000          0.000          0.756          2.821         -0.182          0.000          2.261          0.142\n",
      " 256         -6.770          1.050          4.640          2.308          0.119          0.012         -1.524          0.000          0.000          0.000         -0.943          0.000          0.000         -0.014          3.210         -0.046          0.000          1.657         -0.155\n",
      " 257         -4.399          0.539          1.757          7.070          0.116         -0.199          0.789          0.000          0.000          0.000          0.000          0.000          0.000          0.013          1.305         -0.341          0.000          2.304         -0.512\n",
      " 258         -3.455          0.281          4.426          1.360          0.599         -0.104         -1.860          0.000          0.000          0.000          0.000          0.000          0.000          0.324          2.327         -1.296          0.000         -2.146         -0.335\n",
      " 259         -4.391          0.904          3.672          0.264          0.000         -0.240         -0.836          0.000          0.000          0.000          0.000          0.000          0.000         -0.207          0.000         -0.696          0.000          1.325         -0.882\n",
      " 260         -1.924          0.354          2.542          0.989          0.337         -0.197         -0.482          0.000          0.000          0.000          0.000          0.000          0.000         -0.138          2.285         -0.115          0.000         -2.146         -0.832\n",
      " 261         -3.010          0.459          3.121          0.325          0.029         -0.218         -1.412          0.000          0.000          0.000          0.000          0.000          0.000         -0.092          1.180         -0.383          0.000         -0.290         -0.878\n",
      " 262        -12.075          1.989         10.847          3.262          0.254          0.587         -4.679          0.001          0.000          0.000         -0.943         -1.733          0.000          0.564          3.483         -0.215          0.000         -0.095         -1.033\n",
      " 263         -6.223          1.561          2.650          0.706          0.103         -0.077         -1.342          0.070          0.000          0.000         -0.423          0.000          0.000          0.160          0.200         -1.593          0.000         -1.643         -0.499\n",
      " 264         -5.688          0.385          6.870          5.771          0.439          0.514         -5.258          0.000          0.000          0.000         -0.943         -1.013          0.000          0.033          4.460         -0.122          0.000         -0.715         -0.221\n",
      " 265        -10.592          2.313          2.537          4.347          0.212         -0.120         -1.091          0.000          0.000          0.000          0.000          0.000          0.000          0.967          3.297          0.308          0.000          1.218         -0.439\n",
      " 266         -4.844          0.996          3.508          3.321          0.460         -0.359         -0.621          0.000          0.000          0.000          0.000          0.000          0.000         -0.019          2.869         -0.234          0.000         -0.095         -0.440\n",
      " 267         -6.249          0.720          6.117          1.183          0.272         -0.241         -2.483          0.000          0.000          0.000         -0.943          0.000          0.000         -0.096          4.848         -0.423          0.000         -2.725         -0.639\n",
      " 268         -9.460          2.437          2.738          3.007          0.074         -0.232         -1.732          0.000          0.000          0.000          0.000          0.000          0.000          0.594          0.449         -0.489          0.000          1.661         -0.836\n",
      " 269         -8.836          2.770          4.067          5.412          0.072         -0.066         -2.670          0.000          0.000          0.000          0.000          0.000          0.000         -0.016          0.124         -0.679          0.000          2.304         -0.238\n",
      " 270         -6.465          0.690          4.610          4.955          0.068         -0.484         -1.688          0.000          0.000          0.000          0.000          0.000          0.000         -0.090          0.116         -0.771          0.000          2.304          0.271\n",
      " 271         -6.689          0.683          6.445          1.254          0.262         -0.057         -4.120          0.000          0.000          0.000          0.000         -0.707          0.000          0.312          4.093         -0.077          0.000         -2.725         -0.017\n",
      " 272        -10.915          2.543          1.777          4.309          0.202         -0.190         -1.834          0.000          0.000          0.000          0.000          0.000          0.000          0.179          3.070          0.064          0.000          1.218         -0.201\n",
      " 273         -5.069          0.544          4.806          0.273          0.024         -0.059         -2.057          0.000          0.000          0.000          0.000          0.000          0.000         -0.068          0.607          0.481          0.000         -0.290         -0.143\n",
      " 274         -5.534          0.932          4.825          1.378          0.102         -0.367         -1.759          0.000          0.000          0.000          0.000          0.000          0.000          0.023          2.080          0.065          0.000         -0.715         -0.355\n",
      " 275        -10.261          3.063          2.644          1.620          0.060         -0.199         -1.074          0.000          0.000          0.000          0.000          0.000          0.000         -0.101          2.301         -0.258          0.000          1.657         -0.539\n",
      " 276         -4.733          1.024          2.510          0.338          0.000         -0.103         -1.040          0.000          0.000          0.000          0.000          0.000          0.000          0.161          0.000         -0.112          0.000          1.325         -0.393\n",
      " 277         -3.882          1.062          3.398          2.170          0.206         -0.125         -0.949          0.000          0.000          0.000          0.000          0.000          0.000          0.033          1.875         -0.291          0.000         -0.095         -0.573\n",
      " 278         -4.810          2.256          5.605          1.947          0.885         -0.329         -3.260          0.079          0.000          0.000          0.000         -0.288          0.000          0.194          2.294         -1.237          0.000         -2.146          0.107\n",
      " 279         -7.500          3.493          4.106          0.489          0.036         -0.294         -1.474          0.109          0.000          0.000          0.000          0.000          0.000         -0.345          0.628         -0.445          0.000         -1.643          0.567\n",
      " 280         -3.579          0.259          4.174          2.542          0.961         -0.106         -1.856          0.000          0.000          0.000          0.000         -1.031          0.000          0.367          5.729         -0.145          0.000         -1.451         -0.234\n",
      " 281         -3.955          0.425          3.601          3.195          0.334         -0.472         -2.124          0.000          0.000          0.000          0.000         -0.288          0.000          1.009          2.738         -0.047          0.000         -0.095         -0.615\n",
      " 282         -9.318          2.122          3.573          4.382          0.312         -0.203         -2.221          0.000          0.000          0.000          0.000          0.000          0.000          1.238          2.277         -0.492          0.006          0.582          0.050\n",
      " 283         -8.455          1.471          0.008          2.847          0.050         -0.190         -0.629          0.000          0.000          0.000          0.000          0.000          0.000          0.101          0.322          0.034          0.000          1.661          0.444\n",
      " 284         -3.018          0.812          1.818          3.305          0.050         -0.043         -0.936          0.000          0.000          0.000          0.000          0.000          0.000          2.956          0.013         -0.820          0.000          2.643          0.055\n",
      " 285         -6.357          2.744          0.315          5.247          0.067         -0.395          0.961          0.000          0.000          0.000          0.000          0.000          0.000          0.742          2.124         -0.803          0.000          2.304         -0.119\n",
      " 286         -2.799          0.458          2.366          3.155          0.288          0.062         -0.672          0.000          0.000          0.000          0.000         -0.790          0.000          0.063          4.191          0.044          0.000         -1.451          0.397\n",
      " 287         -3.181          1.302          2.126          0.014          0.000         -0.258          0.675          0.000          0.000          0.000          0.000          0.000          0.000          0.190          0.000         -1.564          0.000          0.798          3.105\n",
      " 288         -3.492          1.089          4.543          1.006          0.699          0.444         -4.903          0.000          0.000          0.000         -0.667         -1.716          0.000         -0.058          4.638          0.024          0.000         -2.146          2.758\n",
      " 289         -3.457          0.742          3.133          1.936          0.402         -0.247          0.124          0.000          0.000          0.000          0.000          0.000          0.000          0.181          3.312          0.467          0.000         -2.725          0.637\n",
      " 290         -4.509          0.537          3.559          5.045          0.719         -0.325         -0.170          0.000          0.000          0.000          0.000         -0.689          0.000          0.213          3.437         -0.105          0.000         -0.095         -0.047\n",
      " 291         -5.598          0.790          2.534          1.538          0.109         -0.246          0.292          0.000          0.000          0.000          0.000          0.000          0.000          0.749          1.828          0.624          0.000          1.657          0.446\n",
      " 292         -2.690          0.420          2.326          0.853          0.351         -0.236          0.177          0.000          0.000          0.000          0.000          0.000          0.000         -0.019          2.919         -0.101          0.000         -0.301          0.581\n",
      " 293         -1.395          0.091          1.276          3.660          0.104         -0.242         -0.541          0.000          0.000          0.000          0.000          0.000          0.000          0.091          0.094          0.839          0.000          1.661          0.131\n",
      " 294         -3.335          0.292          1.966          1.669          0.063         -0.202         -0.015          0.000          0.000          0.000          0.000          0.000          0.000         -0.032          2.157         -0.091          0.000          1.657         -0.009\n",
      " 295         -3.467          0.873          2.963          0.756          0.296         -0.404          1.480          0.000          0.000          0.000          0.000          0.000          0.000         -0.091          2.658         -0.146          0.000         -2.146         -0.625\n",
      " 296         -2.356          0.372          1.919          1.195          0.314         -0.196          0.534          0.000          0.000          0.000          0.000          0.000          0.000         -0.153          3.783          0.013          0.000         -2.725         -0.208\n",
      " 297         -3.502          1.234          3.289          1.957          0.711         -0.008         -0.685          0.000          0.000          0.000         -1.005          0.000          0.000          0.040          4.986          0.036          0.000         -2.725          0.559\n",
      " 298         -1.267          0.507          1.630          1.518          0.793          0.045         -0.738          0.000          0.000          0.000         -1.005          0.000          0.000          0.052          2.327         -0.910          0.000         -2.146          0.749\n",
      " 299         -4.852          1.353          2.911          1.773          0.047         -0.248         -0.040          0.000          0.000          0.000          0.000          0.000          0.000          0.694          1.876          0.076          0.000          1.657          1.146\n",
      " 300         -1.568          0.309          1.626          0.913          0.342         -0.324          0.148          0.000          0.000          0.000          0.000          0.000          0.000         -0.048          3.105         -0.500          0.000         -2.146          0.213\n",
      " 301         -2.559          0.628          1.933          0.724          0.315         -0.316         -0.284          0.000          0.000          0.000          0.000          0.000          0.000         -0.138          3.059         -0.651          0.000         -2.146         -1.459\n",
      " 302         -4.700          1.035          1.564          3.017          0.041         -0.475         -0.093          0.000          0.000          0.000          0.000          0.000          0.000         -0.145          0.012         -0.740          0.000          2.643         -1.221\n",
      " 303         -3.930          0.966          0.730          2.791          0.038         -0.152         -0.114          0.000          0.000          0.000          0.000          0.000          0.000         -0.151          0.131         -1.288          0.000          2.643         -0.966\n",
      " 304         -5.077          0.681          5.873          0.601          0.422         -0.396         -4.217          0.000          0.000          0.000         -0.793          0.000          0.000         -0.077          4.189          0.040          0.000         -2.146         -0.895\n",
      " 305         -2.055          0.479          2.396          0.311          0.000         -0.201          0.283          0.000          0.000          0.000          0.000          0.000          0.000          0.414          0.000         -0.672          0.000          1.325         -0.837\n",
      " 306         -2.679          0.576          2.567          0.941          0.351         -0.225         -1.347          0.000          0.000          0.000         -0.793          0.000          0.000         -0.067          3.055         -0.573          0.000         -2.146         -1.177\n",
      " 307         -4.582          0.793          3.869          1.347          0.285         -0.423         -1.837          0.000          0.000          0.000          0.000          0.000          0.000         -0.087          3.641         -0.200          0.000         -2.725         -0.558\n",
      " 308         -3.524          0.515          1.757          4.737          0.305         -0.209         -0.393          0.000          0.000          0.000          0.000          0.000          0.000         -0.024          2.952          0.280          0.000          0.582          0.800\n",
      " 309         -3.372          0.477          1.497          3.475          0.056         -0.288         -0.702          0.000          0.000          0.000          0.000          0.000          0.000         -0.002          0.313         -0.581          0.000          1.661          0.237\n",
      " 310         -1.825          0.673          0.688          7.719          0.089         -0.069         -0.245          0.007          0.000          0.000          0.000          0.000          0.000         -0.049          1.404         -1.110          0.000          2.304         -0.790\n",
      " 311         -1.252          0.628          0.561          0.706          0.179          0.068         -0.306          0.245          0.000          0.000          0.000          0.000          0.000          0.000          0.570          0.000          0.000         -1.643         -0.512\n",
      " 312        -21.017          5.464          6.075        621.527          1.505         -0.610         -5.695          0.000          0.000          0.000         -0.985          0.000          0.000          0.000          0.000          0.000          0.000          0.000          0.000\n",
      " tot      -1857.355        431.937       1011.526       1344.084         59.747        -48.382       -482.988          1.252       -103.703        -59.740        -57.491        -36.952          0.000         49.511        511.035       -103.666          0.317        106.911        -16.386\n",
      "\n"
     ]
    }
   ],
   "source": [
    "print(poses[1].energies())"
   ]
  },
  {
   "cell_type": "code",
   "execution_count": 83,
   "metadata": {},
   "outputs": [],
   "source": [
    "def getResidueEnergy(pose, residue_index):\n",
    "    \n",
    "    energies = pose.energies()\n",
    "    energies = energies.residue_total_energies(residue_index)\n",
    "    \n",
    "    residue_energy = 0\n",
    "    for s in sfxn.get_nonzero_weighted_scoretypes():\n",
    "        residue_energy += energies.get(s)\n",
    "        \n",
    "    return residue_energy"
   ]
  },
  {
   "cell_type": "code",
   "execution_count": 84,
   "metadata": {},
   "outputs": [],
   "source": [
    "diff = []\n",
    "for i in range(1,pose.total_residue()+1):\n",
    "    \n",
    "    energy = getResidueEnergy(pose, i)\n",
    "    energy_m = getResidueEnergy(poses[1], i)\n",
    "    \n",
    "    diff.append((i, energy_m-energy))"
   ]
  },
  {
   "cell_type": "code",
   "execution_count": null,
   "metadata": {},
   "outputs": [],
   "source": [
    "for x in sorted(diff, key=lambda x:x[1]):\n",
    "    print(x)\n",
    "    #pose[x[0]]"
   ]
  },
  {
   "cell_type": "code",
   "execution_count": 51,
   "metadata": {},
   "outputs": [
    {
     "name": "stdout",
     "output_type": "stream",
     "text": [
      "PDB file name: relaxed_wildtp/egfr_0001.pdb\n",
      " Pose Range  Chain    PDB Range  |   #Residues         #Atoms\n",
      "\n",
      "0001 -- 0053    A 0672  -- 0724  |   0053 residues;    00871 atoms\n",
      "0054 -- 0283    A 0726  -- 0955  |   0230 residues;    03729 atoms\n",
      "0284 -- 0284    A 0961  -- 0961  |   0001 residues;    00018 atoms\n",
      "0285 -- 0285    A 0999  -- 0999  |   0001 residues;    00052 atoms\n",
      "                           TOTAL |   0285 residues;    04670 atoms\n",
      "\n"
     ]
    }
   ],
   "source": [
    "print(pose.pdb_info())"
   ]
  }
 ],
 "metadata": {
  "kernelspec": {
   "display_name": "Python 3",
   "language": "python",
   "name": "python3"
  },
  "language_info": {
   "codemirror_mode": {
    "name": "ipython",
    "version": 3
   },
   "file_extension": ".py",
   "mimetype": "text/x-python",
   "name": "python",
   "nbconvert_exporter": "python",
   "pygments_lexer": "ipython3",
   "version": "3.8.3"
  }
 },
 "nbformat": 4,
 "nbformat_minor": 5
}
