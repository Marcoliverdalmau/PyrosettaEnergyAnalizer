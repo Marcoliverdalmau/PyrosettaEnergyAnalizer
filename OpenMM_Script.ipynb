{
 "cells": [
  {
   "cell_type": "code",
   "execution_count": 1,
   "metadata": {},
   "outputs": [],
   "source": [
    "from simtk.openmm.app import *\n",
    "from simtk.openmm import *\n",
    "from simtk.unit import *\n",
    "from sys import stdout\n"
   ]
  },
  {
   "cell_type": "code",
   "execution_count": null,
   "metadata": {},
   "outputs": [],
   "source": [
    "#Reading structure and force field files\n",
    "pdb = PDBFile('/home/arnau/Desktop/test.pdb')\n",
    "forcefield = ForceField('amber14-all.xml', 'amber14/tip3pfb.xml')\n",
    "\n",
    "#Creating System\n",
    "system = forcefield.createSystem(pdb.topology, nonbondedMethod=PME, nonbondedCutoff=1*nanometer, constraints=HBonds)\n",
    "system.addForce(MonteCarloBarostat(1*bar, 300*kelvin))\n",
    "integrator = LangevinMiddleIntegrator(300*kelvin, 1/picosecond, 0.002*picoseconds)\n",
    "\n",
    "#Creating simulation context\n",
    "print('Building system...')\n",
    "platform = Platform.getPlatformByName('CUDA')\n",
    "simulation = Simulation(pdb.topology, system, integrator)\n",
    "simulation.context.setPositions(pdb.positions)\n",
    "\n",
    "#Minimizing energy\n",
    "print('Performing energy minimization...')\n",
    "simulation.minimizeEnergy()\n",
    "simulation.reporters.append(PDBReporter('output.pdb', 1000))\n",
    "simulation.reporters.append(StateDataReporter(stdout, 1000,\n",
    "            step=True, potentialEnergy=True, kineticEnergy=True, totalEnergy=True, temperature=True, separator='\\t'))\n",
    "\n",
    "#Running simulation\n",
    "print('Simulating...')\n",
    "simulation.step(10000)\n",
    "print('Simulation done')"
   ]
  }
 ],
 "metadata": {
  "kernelspec": {
   "display_name": "Python 3",
   "language": "python",
   "name": "python3"
  },
  "language_info": {
   "codemirror_mode": {
    "name": "ipython",
    "version": 3
   },
   "file_extension": ".py",
   "mimetype": "text/x-python",
   "name": "python",
   "nbconvert_exporter": "python",
   "pygments_lexer": "ipython3",
   "version": "3.8.3"
  }
 },
 "nbformat": 4,
 "nbformat_minor": 5
}
